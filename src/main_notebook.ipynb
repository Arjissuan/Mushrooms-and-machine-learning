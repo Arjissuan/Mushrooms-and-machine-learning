{
 "cells": [
  {
   "cell_type": "code",
   "execution_count": 4,
   "id": "1fd54a08",
   "metadata": {},
   "outputs": [],
   "source": [
    "from data_access.data_source import DataSource\n",
    "import pandas as pd\n",
    "import numpy as np\n",
    "import os\n",
    "import matplotlib.pyplot as plt\n",
    "import seaborn as sns\n",
    "from scipy.stats import norm\n",
    "from sklearn.preprocessing import StandardScaler\n",
    "from scipy import stats\n",
    "import warnings\n",
    "warnings.filterwarnings('ignore')\n",
    "%matplotlib inline\n"
   ]
  },
  {
   "cell_type": "code",
   "execution_count": 5,
   "id": "efe54872",
   "metadata": {},
   "outputs": [],
   "source": [
    "ds = DataSource()\n",
    "primary_df = ds.get_primary_data_frame()\n",
    "secondary_df = ds.get_secondary_data_frame()\n"
   ]
  },
  {
   "cell_type": "code",
   "execution_count": 6,
   "id": "85d22c12",
   "metadata": {},
   "outputs": [
    {
     "data": {
      "text/plain": [
       "Index(['family', 'name', 'class', 'cap-diameter', 'cap-shape', 'cap-surface',\n",
       "       'cap-color', 'does-bruise-or-bleed', 'gill-attachment', 'gill-spacing',\n",
       "       'gill-color', 'stem-height', 'stem-width', 'stem-root', 'stem-surface',\n",
       "       'stem-color', 'veil-type', 'veil-color', 'has-ring', 'ring-type',\n",
       "       'spore-print-color', 'habitat', 'season'],\n",
       "      dtype='object')"
      ]
     },
     "execution_count": 6,
     "metadata": {},
     "output_type": "execute_result"
    }
   ],
   "source": [
    "primary_df.columns\n"
   ]
  },
  {
   "cell_type": "code",
   "execution_count": 7,
   "id": "27079df8",
   "metadata": {},
   "outputs": [
    {
     "data": {
      "text/plain": [
       "Index(['class', 'cap-diameter', 'cap-shape', 'cap-surface', 'cap-color',\n",
       "       'does-bruise-or-bleed', 'gill-attachment', 'gill-spacing', 'gill-color',\n",
       "       'stem-height', 'stem-width', 'stem-root', 'stem-surface', 'stem-color',\n",
       "       'veil-type', 'veil-color', 'has-ring', 'ring-type', 'spore-print-color',\n",
       "       'habitat', 'season'],\n",
       "      dtype='object')"
      ]
     },
     "execution_count": 7,
     "metadata": {},
     "output_type": "execute_result"
    }
   ],
   "source": [
    "secondary_df.columns"
   ]
  },
  {
   "cell_type": "code",
   "execution_count": 8,
   "id": "a940552c",
   "metadata": {},
   "outputs": [
    {
     "data": {
      "text/html": [
       "<div>\n",
       "<style scoped>\n",
       "    .dataframe tbody tr th:only-of-type {\n",
       "        vertical-align: middle;\n",
       "    }\n",
       "\n",
       "    .dataframe tbody tr th {\n",
       "        vertical-align: top;\n",
       "    }\n",
       "\n",
       "    .dataframe thead th {\n",
       "        text-align: right;\n",
       "    }\n",
       "</style>\n",
       "<table border=\"1\" class=\"dataframe\">\n",
       "  <thead>\n",
       "    <tr style=\"text-align: right;\">\n",
       "      <th></th>\n",
       "      <th>cap-diameter</th>\n",
       "      <th>stem-height</th>\n",
       "      <th>stem-width</th>\n",
       "    </tr>\n",
       "  </thead>\n",
       "  <tbody>\n",
       "    <tr>\n",
       "      <th>count</th>\n",
       "      <td>61069.000000</td>\n",
       "      <td>61069.000000</td>\n",
       "      <td>61069.000000</td>\n",
       "    </tr>\n",
       "    <tr>\n",
       "      <th>mean</th>\n",
       "      <td>6.733854</td>\n",
       "      <td>6.581538</td>\n",
       "      <td>12.149410</td>\n",
       "    </tr>\n",
       "    <tr>\n",
       "      <th>std</th>\n",
       "      <td>5.264845</td>\n",
       "      <td>3.370017</td>\n",
       "      <td>10.035955</td>\n",
       "    </tr>\n",
       "    <tr>\n",
       "      <th>min</th>\n",
       "      <td>0.380000</td>\n",
       "      <td>0.000000</td>\n",
       "      <td>0.000000</td>\n",
       "    </tr>\n",
       "    <tr>\n",
       "      <th>25%</th>\n",
       "      <td>3.480000</td>\n",
       "      <td>4.640000</td>\n",
       "      <td>5.210000</td>\n",
       "    </tr>\n",
       "    <tr>\n",
       "      <th>50%</th>\n",
       "      <td>5.860000</td>\n",
       "      <td>5.950000</td>\n",
       "      <td>10.190000</td>\n",
       "    </tr>\n",
       "    <tr>\n",
       "      <th>75%</th>\n",
       "      <td>8.540000</td>\n",
       "      <td>7.740000</td>\n",
       "      <td>16.570000</td>\n",
       "    </tr>\n",
       "    <tr>\n",
       "      <th>max</th>\n",
       "      <td>62.340000</td>\n",
       "      <td>33.920000</td>\n",
       "      <td>103.910000</td>\n",
       "    </tr>\n",
       "  </tbody>\n",
       "</table>\n",
       "</div>"
      ],
      "text/plain": [
       "       cap-diameter   stem-height    stem-width\n",
       "count  61069.000000  61069.000000  61069.000000\n",
       "mean       6.733854      6.581538     12.149410\n",
       "std        5.264845      3.370017     10.035955\n",
       "min        0.380000      0.000000      0.000000\n",
       "25%        3.480000      4.640000      5.210000\n",
       "50%        5.860000      5.950000     10.190000\n",
       "75%        8.540000      7.740000     16.570000\n",
       "max       62.340000     33.920000    103.910000"
      ]
     },
     "execution_count": 8,
     "metadata": {},
     "output_type": "execute_result"
    }
   ],
   "source": [
    "secondary_df.describe()"
   ]
  },
  {
   "cell_type": "code",
   "execution_count": 9,
   "id": "ebacd8c9",
   "metadata": {},
   "outputs": [
    {
     "data": {
      "text/plain": [
       "<AxesSubplot:>"
      ]
     },
     "execution_count": 9,
     "metadata": {},
     "output_type": "execute_result"
    },
    {
     "data": {
      "image/png": "[encoded data removed]",
      "text/plain": [
       "<Figure size 432x288 with 1 Axes>"
      ]
     },
     "metadata": {
      "needs_background": "light"
     },
     "output_type": "display_data"
    }
   ],
   "source": [
    "secondary_df[['cap-diameter', 'stem-height', 'stem-width']].boxplot()"
   ]
  },
  {
   "cell_type": "code",
   "execution_count": 10,
   "id": "32194f72",
   "metadata": {},
   "outputs": [
    {
     "data": {
      "text/plain": [
       "<AxesSubplot:xlabel='cap-diameter', ylabel='Density'>"
      ]
     },
     "execution_count": 10,
     "metadata": {},
     "output_type": "execute_result"
    },
    {
     "data": {
      "image/png": "[encoded data removed]",
      "text/plain": [
       "<Figure size 432x288 with 1 Axes>"
      ]
     },
     "metadata": {
      "needs_background": "light"
     },
     "output_type": "display_data"
    }
   ],
   "source": [
    "sns.distplot(secondary_df['cap-diameter'])"
   ]
  },
  {
   "cell_type": "code",
   "execution_count": 11,
   "id": "859b37bf",
   "metadata": {},
   "outputs": [
    {
     "name": "stdout",
     "output_type": "stream",
     "text": [
      "Skewness: 3.8228439765098257\n",
      "Kurtosis: 27.077466724882328\n"
     ]
    }
   ],
   "source": [
    "print('Skewness: {}'.format(secondary_df['cap-diameter'].skew()))\n",
    "print('Kurtosis: {}'.format(secondary_df['cap-diameter'].kurt()))"
   ]
  },
  {
   "cell_type": "code",
   "execution_count": 12,
   "id": "37dd0fa2",
   "metadata": {},
   "outputs": [
    {
     "data": {
      "text/plain": [
       "<AxesSubplot:xlabel='stem-height', ylabel='cap-diameter'>"
      ]
     },
     "execution_count": 12,
     "metadata": {},
     "output_type": "execute_result"
    },
    {
     "data": {
      "image/png": "[encoded data removed]",
      "text/plain": [
       "<Figure size 432x288 with 1 Axes>"
      ]
     },
     "metadata": {
      "needs_background": "light"
     },
     "output_type": "display_data"
    }
   ],
   "source": [
    "#scatterplot\n",
    "diam= 'cap-diameter'\n",
    "surf = 'stem-height'\n",
    "data = pd.concat([secondary_df[diam], secondary_df[surf]], axis=1)\n",
    "data.plot.scatter(y=diam,x=surf)\n"
   ]
  },
  {
   "cell_type": "code",
   "execution_count": 13,
   "id": "caf48950",
   "metadata": {
    "scrolled": true
   },
   "outputs": [
    {
     "data": {
      "text/plain": [
       "<AxesSubplot:xlabel='stem-width', ylabel='cap-diameter'>"
      ]
     },
     "execution_count": 13,
     "metadata": {},
     "output_type": "execute_result"
    },
    {
     "data": {
      "image/png": "[encoded data removed]",
      "text/plain": [
       "<Figure size 432x288 with 1 Axes>"
      ]
     },
     "metadata": {
      "needs_background": "light"
     },
     "output_type": "display_data"
    }
   ],
   "source": [
    "wid = \"stem-width\"\n",
    "vector = pd.concat([secondary_df[diam], secondary_df[wid]], axis=1)\n",
    "vector.plot.scatter(y=diam, x=wid)"
   ]
  },
  {
   "cell_type": "code",
   "execution_count": 14,
   "id": "7526aa67",
   "metadata": {},
   "outputs": [
    {
     "data": {
      "text/plain": [
       "(-0.5, 6.5, 0.0, 90.0)"
      ]
     },
     "execution_count": 14,
     "metadata": {},
     "output_type": "execute_result"
    },
    {
     "data": {
      "image/png": "[encoded data removed]",
      "text/plain": [
       "<Figure size 576x432 with 1 Axes>"
      ]
     },
     "metadata": {
      "needs_background": "light"
     },
     "output_type": "display_data"
    }
   ],
   "source": [
    "shp = 'cap-shape'\n",
    "boxes = pd.concat([ds.get_secondary_data_frame()[diam], ds.get_secondary_data_frame()[shp]], axis=1)\n",
    "f,ax = plt.subplots(figsize=(8,6))\n",
    "fig = sns.boxplot(y=boxes[diam], x=boxes[shp])\n",
    "fig.axis(ymin=0, ymax=90)\n",
    "\n"
   ]
  },
  {
   "cell_type": "code",
   "execution_count": 15,
   "id": "caa7ced6",
   "metadata": {},
   "outputs": [
    {
     "data": {
      "text/plain": [
       "<AxesSubplot:>"
      ]
     },
     "execution_count": 15,
     "metadata": {},
     "output_type": "execute_result"
    },
    {
     "data": {
      "image/png": "[encoded data removed]",
      "text/plain": [
       "<Figure size 432x288 with 2 Axes>"
      ]
     },
     "metadata": {
      "needs_background": "light"
     },
     "output_type": "display_data"
    }
   ],
   "source": [
    "#heatmap\n",
    "sns.heatmap(secondary_df.corr())"
   ]
  },
  {
   "cell_type": "code",
   "execution_count": 16,
   "id": "37197717",
   "metadata": {},
   "outputs": [
    {
     "data": {
      "text/plain": [
       "(array([0, 1, 2, 3, 4, 5, 6, 7]),\n",
       " [Text(0, 0, 'd'),\n",
       "  Text(1, 0, 'm'),\n",
       "  Text(2, 0, 'g'),\n",
       "  Text(3, 0, 'h'),\n",
       "  Text(4, 0, 'l'),\n",
       "  Text(5, 0, 'p'),\n",
       "  Text(6, 0, 'w'),\n",
       "  Text(7, 0, 'u')])"
      ]
     },
     "execution_count": 16,
     "metadata": {},
     "output_type": "execute_result"
    },
    {
     "data": {
      "image/png": "[encoded data removed]",
      "text/plain": [
       "<Figure size 432x288 with 1 Axes>"
      ]
     },
     "metadata": {
      "needs_background": "light"
     },
     "output_type": "display_data"
    }
   ],
   "source": [
    "hb = 'habitat'\n",
    "cp = np.multiply(np.power(np.array(secondary_df['cap-diameter']),2), np.pi)\n",
    "bxs = pd.concat([secondary_df[hb], pd.DataFrame({\"cap-field\":cp})], axis=1)\n",
    "fig = sns.boxplot(y=bxs['cap-field'], x=bxs[hb])\n",
    "plt.xticks(rotation=90)"
   ]
  },
  {
   "cell_type": "code",
   "execution_count": 17,
   "id": "9d319dba",
   "metadata": {},
   "outputs": [
    {
     "data": {
      "text/html": [
       "<div>\n",
       "<style scoped>\n",
       "    .dataframe tbody tr th:only-of-type {\n",
       "        vertical-align: middle;\n",
       "    }\n",
       "\n",
       "    .dataframe tbody tr th {\n",
       "        vertical-align: top;\n",
       "    }\n",
       "\n",
       "    .dataframe thead th {\n",
       "        text-align: right;\n",
       "    }\n",
       "</style>\n",
       "<table border=\"1\" class=\"dataframe\">\n",
       "  <thead>\n",
       "    <tr style=\"text-align: right;\">\n",
       "      <th></th>\n",
       "      <th>Total</th>\n",
       "      <th>Percent</th>\n",
       "    </tr>\n",
       "  </thead>\n",
       "  <tbody>\n",
       "    <tr>\n",
       "      <th>veil-type</th>\n",
       "      <td>57892</td>\n",
       "      <td>0.947977</td>\n",
       "    </tr>\n",
       "    <tr>\n",
       "      <th>spore-print-color</th>\n",
       "      <td>54715</td>\n",
       "      <td>0.895954</td>\n",
       "    </tr>\n",
       "    <tr>\n",
       "      <th>veil-color</th>\n",
       "      <td>53656</td>\n",
       "      <td>0.878613</td>\n",
       "    </tr>\n",
       "    <tr>\n",
       "      <th>stem-root</th>\n",
       "      <td>51538</td>\n",
       "      <td>0.843931</td>\n",
       "    </tr>\n",
       "    <tr>\n",
       "      <th>stem-surface</th>\n",
       "      <td>38124</td>\n",
       "      <td>0.624277</td>\n",
       "    </tr>\n",
       "    <tr>\n",
       "      <th>gill-spacing</th>\n",
       "      <td>25063</td>\n",
       "      <td>0.410405</td>\n",
       "    </tr>\n",
       "    <tr>\n",
       "      <th>cap-surface</th>\n",
       "      <td>14120</td>\n",
       "      <td>0.231214</td>\n",
       "    </tr>\n",
       "    <tr>\n",
       "      <th>gill-attachment</th>\n",
       "      <td>9884</td>\n",
       "      <td>0.161850</td>\n",
       "    </tr>\n",
       "    <tr>\n",
       "      <th>ring-type</th>\n",
       "      <td>2471</td>\n",
       "      <td>0.040462</td>\n",
       "    </tr>\n",
       "    <tr>\n",
       "      <th>class</th>\n",
       "      <td>0</td>\n",
       "      <td>0.000000</td>\n",
       "    </tr>\n",
       "    <tr>\n",
       "      <th>stem-color</th>\n",
       "      <td>0</td>\n",
       "      <td>0.000000</td>\n",
       "    </tr>\n",
       "    <tr>\n",
       "      <th>habitat</th>\n",
       "      <td>0</td>\n",
       "      <td>0.000000</td>\n",
       "    </tr>\n",
       "    <tr>\n",
       "      <th>has-ring</th>\n",
       "      <td>0</td>\n",
       "      <td>0.000000</td>\n",
       "    </tr>\n",
       "    <tr>\n",
       "      <th>stem-width</th>\n",
       "      <td>0</td>\n",
       "      <td>0.000000</td>\n",
       "    </tr>\n",
       "    <tr>\n",
       "      <th>cap-diameter</th>\n",
       "      <td>0</td>\n",
       "      <td>0.000000</td>\n",
       "    </tr>\n",
       "    <tr>\n",
       "      <th>stem-height</th>\n",
       "      <td>0</td>\n",
       "      <td>0.000000</td>\n",
       "    </tr>\n",
       "    <tr>\n",
       "      <th>gill-color</th>\n",
       "      <td>0</td>\n",
       "      <td>0.000000</td>\n",
       "    </tr>\n",
       "    <tr>\n",
       "      <th>does-bruise-or-bleed</th>\n",
       "      <td>0</td>\n",
       "      <td>0.000000</td>\n",
       "    </tr>\n",
       "    <tr>\n",
       "      <th>cap-color</th>\n",
       "      <td>0</td>\n",
       "      <td>0.000000</td>\n",
       "    </tr>\n",
       "    <tr>\n",
       "      <th>cap-shape</th>\n",
       "      <td>0</td>\n",
       "      <td>0.000000</td>\n",
       "    </tr>\n",
       "  </tbody>\n",
       "</table>\n",
       "</div>"
      ],
      "text/plain": [
       "                      Total   Percent\n",
       "veil-type             57892  0.947977\n",
       "spore-print-color     54715  0.895954\n",
       "veil-color            53656  0.878613\n",
       "stem-root             51538  0.843931\n",
       "stem-surface          38124  0.624277\n",
       "gill-spacing          25063  0.410405\n",
       "cap-surface           14120  0.231214\n",
       "gill-attachment        9884  0.161850\n",
       "ring-type              2471  0.040462\n",
       "class                     0  0.000000\n",
       "stem-color                0  0.000000\n",
       "habitat                   0  0.000000\n",
       "has-ring                  0  0.000000\n",
       "stem-width                0  0.000000\n",
       "cap-diameter              0  0.000000\n",
       "stem-height               0  0.000000\n",
       "gill-color                0  0.000000\n",
       "does-bruise-or-bleed      0  0.000000\n",
       "cap-color                 0  0.000000\n",
       "cap-shape                 0  0.000000"
      ]
     },
     "execution_count": 17,
     "metadata": {},
     "output_type": "execute_result"
    }
   ],
   "source": [
    "#looking for nulls\n",
    "total = secondary_df.isnull().sum().sort_values(ascending=False)\n",
    "percent=(secondary_df.isnull().sum()/secondary_df.isnull().count()).sort_values(ascending=False)\n",
    "missing_data = pd.concat([total, percent], axis=1, keys=['Total', 'Percent'])\n",
    "missing_data.head(20)"
   ]
  },
  {
   "cell_type": "code",
   "execution_count": 18,
   "id": "0688e0c1",
   "metadata": {},
   "outputs": [
    {
     "data": {
      "text/plain": [
       "0        u\n",
       "1        u\n",
       "2        u\n",
       "3        u\n",
       "4        u\n",
       "        ..\n",
       "61064    f\n",
       "61065    f\n",
       "61066    f\n",
       "61067    f\n",
       "61068    f\n",
       "Name: veil-type, Length: 61069, dtype: object"
      ]
     },
     "execution_count": 18,
     "metadata": {},
     "output_type": "execute_result"
    }
   ],
   "source": [
    "#funk = lambda x: ds.exchange_nones_to_false(secondary_df[x])\n",
    "#without = list(map(funk, secondary_df.columns))\n",
    "secondary_df['veil-type'].fillna(value='f',inplace=True)\n",
    "secondary_df['veil-type']\n",
    "\n"
   ]
  },
  {
   "cell_type": "code",
   "execution_count": 19,
   "id": "37e36a1e",
   "metadata": {},
   "outputs": [
    {
     "name": "stdout",
     "output_type": "stream",
     "text": [
      "outer range of the distribution\n",
      "[[-1.20685539]\n",
      " [-1.19545895]\n",
      " [-1.19545895]\n",
      " [-1.18976073]\n",
      " [-1.18976073]\n",
      " [-1.18976073]\n",
      " [-1.18786133]\n",
      " [-1.18786133]\n",
      " [-1.18596192]\n",
      " [-1.18596192]]\n",
      "outer range ot the distribution\n",
      "[[ 9.6444552 ]\n",
      " [ 9.66344927]\n",
      " [ 9.69194037]\n",
      " [ 9.73372732]\n",
      " [ 9.75841961]\n",
      " [ 9.77741367]\n",
      " [ 9.79450833]\n",
      " [ 9.90657333]\n",
      " [10.01483951]\n",
      " [10.56186865]]\n"
     ]
    }
   ],
   "source": [
    "#standard deviation\n",
    "cap_diam_stand = StandardScaler().fit_transform(secondary_df[diam][:,np.newaxis])\n",
    "low_range = cap_diam_stand[cap_diam_stand[:,0].argsort()][:10]\n",
    "high_range = cap_diam_stand[cap_diam_stand[:,0].argsort()][-10:]\n",
    "print('outer range of the distribution')\n",
    "print(low_range)\n",
    "print('outer range ot the distribution')\n",
    "print(high_range)"
   ]
  },
  {
   "cell_type": "code",
   "execution_count": 20,
   "id": "240068f4",
   "metadata": {},
   "outputs": [
    {
     "data": {
      "text/plain": [
       "<AxesSubplot:xlabel='does-bruise-or-bleed', ylabel='cap-diameter'>"
      ]
     },
     "execution_count": 20,
     "metadata": {},
     "output_type": "execute_result"
    },
    {
     "data": {
      "image/png": "[encoded data removed]",
      "text/plain": [
       "<Figure size 432x288 with 1 Axes>"
      ]
     },
     "metadata": {
      "needs_background": "light"
     },
     "output_type": "display_data"
    }
   ],
   "source": [
    "sns.boxplot(data=secondary_df,x='does-bruise-or-bleed',y='cap-diameter')\n",
    "#secondary_df[['cap-diameter', 'stem-height', 'stem-width','does-bruise-bleed']].boxplot()"
   ]
  },
  {
   "cell_type": "code",
   "execution_count": 21,
   "id": "0ece6879",
   "metadata": {},
   "outputs": [
    {
     "data": {
      "text/plain": [
       "<AxesSubplot:xlabel='does-bruise-or-bleed', ylabel='stem-height'>"
      ]
     },
     "execution_count": 21,
     "metadata": {},
     "output_type": "execute_result"
    },
    {
     "data": {
      "image/png": "[encoded data removed]",
      "text/plain": [
       "<Figure size 432x288 with 1 Axes>"
      ]
     },
     "metadata": {
      "needs_background": "light"
     },
     "output_type": "display_data"
    }
   ],
   "source": [
    "sns.boxplot(data=secondary_df,x='does-bruise-or-bleed',y='stem-height')"
   ]
  },
  {
   "cell_type": "code",
   "execution_count": 22,
   "id": "74bb6a77",
   "metadata": {},
   "outputs": [
    {
     "data": {
      "text/plain": [
       "<AxesSubplot:xlabel='does-bruise-or-bleed', ylabel='stem-width'>"
      ]
     },
     "execution_count": 22,
     "metadata": {},
     "output_type": "execute_result"
    },
    {
     "data": {
      "image/png": "[encoded data removed]",
      "text/plain": [
       "<Figure size 432x288 with 1 Axes>"
      ]
     },
     "metadata": {
      "needs_background": "light"
     },
     "output_type": "display_data"
    }
   ],
   "source": [
    "sns.boxplot(data=secondary_df,x='does-bruise-or-bleed',y='stem-width')"
   ]
  },
  {
   "cell_type": "code",
   "execution_count": 23,
   "id": "e7557e32",
   "metadata": {},
   "outputs": [
    {
     "data": {
      "text/plain": [
       "<AxesSubplot:xlabel='cap-color', ylabel='count'>"
      ]
     },
     "execution_count": 23,
     "metadata": {},
     "output_type": "execute_result"
    },
    {
     "data": {
      "image/png": "[encoded data removed]",
      "text/plain": [
       "<Figure size 432x288 with 1 Axes>"
      ]
     },
     "metadata": {
      "needs_background": "light"
     },
     "output_type": "display_data"
    }
   ],
   "source": [
    "sns.countplot(data=secondary_df, x='cap-color')"
   ]
  },
  {
   "cell_type": "code",
   "execution_count": 28,
   "id": "6631527d",
   "metadata": {},
   "outputs": [
    {
     "data": {
      "text/plain": [
       "<AxesSubplot:xlabel='does-bruise-or-bleed', ylabel='cap-diameter'>"
      ]
     },
     "execution_count": 28,
     "metadata": {},
     "output_type": "execute_result"
    },
    {
     "data": {
      "image/png": "[encoded data removed]",
      "text/plain": [
       "<Figure size 432x288 with 1 Axes>"
      ]
     },
     "metadata": {
      "needs_background": "light"
     },
     "output_type": "display_data"
    }
   ],
   "source": [
    "sns.boxplot(data=secondary_df[secondary_df['cap-color']=='r'],x='does-bruise-or-bleed',y='cap-diameter')"
   ]
  },
  {
   "cell_type": "code",
   "execution_count": 38,
   "id": "dc6de74c",
   "metadata": {},
   "outputs": [
    {
     "data": {
      "text/html": [
       "<div>\n",
       "<style scoped>\n",
       "    .dataframe tbody tr th:only-of-type {\n",
       "        vertical-align: middle;\n",
       "    }\n",
       "\n",
       "    .dataframe tbody tr th {\n",
       "        vertical-align: top;\n",
       "    }\n",
       "\n",
       "    .dataframe thead th {\n",
       "        text-align: right;\n",
       "    }\n",
       "</style>\n",
       "<table border=\"1\" class=\"dataframe\">\n",
       "  <thead>\n",
       "    <tr style=\"text-align: right;\">\n",
       "      <th>season</th>\n",
       "      <th>a</th>\n",
       "      <th>s</th>\n",
       "      <th>u</th>\n",
       "      <th>w</th>\n",
       "    </tr>\n",
       "    <tr>\n",
       "      <th>does-bruise-or-bleed</th>\n",
       "      <th></th>\n",
       "      <th></th>\n",
       "      <th></th>\n",
       "      <th></th>\n",
       "    </tr>\n",
       "  </thead>\n",
       "  <tbody>\n",
       "    <tr>\n",
       "      <th>f</th>\n",
       "      <td>24509</td>\n",
       "      <td>2611</td>\n",
       "      <td>18217</td>\n",
       "      <td>5142</td>\n",
       "    </tr>\n",
       "    <tr>\n",
       "      <th>t</th>\n",
       "      <td>5668</td>\n",
       "      <td>116</td>\n",
       "      <td>4681</td>\n",
       "      <td>125</td>\n",
       "    </tr>\n",
       "  </tbody>\n",
       "</table>\n",
       "</div>"
      ],
      "text/plain": [
       "season                    a     s      u     w\n",
       "does-bruise-or-bleed                          \n",
       "f                     24509  2611  18217  5142\n",
       "t                      5668   116   4681   125"
      ]
     },
     "execution_count": 38,
     "metadata": {},
     "output_type": "execute_result"
    }
   ],
   "source": [
    "tab = pd.crosstab(secondary_df['does-bruise-or-bleed'], secondary_df['season'])\n",
    "tab"
   ]
  },
  {
   "cell_type": "code",
   "execution_count": 42,
   "id": "0e1c597f",
   "metadata": {},
   "outputs": [
    {
     "data": {
      "text/plain": [
       "20.44283343523452"
      ]
     },
     "execution_count": 42,
     "metadata": {},
     "output_type": "execute_result"
    }
   ],
   "source": [
    "#checking percentages of edible shrooms in each season, this is correct with my hyphothesis\n",
    "#that it is unlikely to aproach edible mushroom in winter; from all of winter mushrooms only 2.4 provent is edible\n",
    "u = (tab['u']['t']*100)/np.sum(tab['u'])#summer\n",
    "u"
   ]
  },
  {
   "cell_type": "code",
   "execution_count": 43,
   "id": "70be40c4",
   "metadata": {},
   "outputs": [
    {
     "data": {
      "text/plain": [
       "2.3732675147142586"
      ]
     },
     "execution_count": 43,
     "metadata": {},
     "output_type": "execute_result"
    }
   ],
   "source": [
    "w = (tab['w']['t']*100)/np.sum(tab['w'])#winter\n",
    "w"
   ]
  },
  {
   "cell_type": "code",
   "execution_count": 45,
   "id": "5939082d",
   "metadata": {},
   "outputs": [
    {
     "data": {
      "text/plain": [
       "4.253758709204254"
      ]
     },
     "execution_count": 45,
     "metadata": {},
     "output_type": "execute_result"
    }
   ],
   "source": [
    "s = (tab['s']['t']*100)/np.sum(tab['s'])#spring\n",
    "s"
   ]
  },
  {
   "cell_type": "code",
   "execution_count": 46,
   "id": "c9ab31c9",
   "metadata": {},
   "outputs": [
    {
     "data": {
      "text/plain": [
       "18.782516486065546"
      ]
     },
     "execution_count": 46,
     "metadata": {},
     "output_type": "execute_result"
    }
   ],
   "source": [
    "a = (tab['a']['t']*100)/np.sum(tab['a'])#autumn\n",
    "a"
   ]
  },
  {
   "cell_type": "code",
   "execution_count": 47,
   "id": "ddbf20b5",
   "metadata": {},
   "outputs": [
    {
     "data": {
      "text/html": [
       "<div>\n",
       "<style scoped>\n",
       "    .dataframe tbody tr th:only-of-type {\n",
       "        vertical-align: middle;\n",
       "    }\n",
       "\n",
       "    .dataframe tbody tr th {\n",
       "        vertical-align: top;\n",
       "    }\n",
       "\n",
       "    .dataframe thead th {\n",
       "        text-align: right;\n",
       "    }\n",
       "</style>\n",
       "<table border=\"1\" class=\"dataframe\">\n",
       "  <thead>\n",
       "    <tr style=\"text-align: right;\">\n",
       "      <th>habitat</th>\n",
       "      <th>d</th>\n",
       "      <th>g</th>\n",
       "      <th>h</th>\n",
       "      <th>l</th>\n",
       "      <th>m</th>\n",
       "      <th>p</th>\n",
       "      <th>u</th>\n",
       "      <th>w</th>\n",
       "    </tr>\n",
       "    <tr>\n",
       "      <th>does-bruise-or-bleed</th>\n",
       "      <th></th>\n",
       "      <th></th>\n",
       "      <th></th>\n",
       "      <th></th>\n",
       "      <th></th>\n",
       "      <th></th>\n",
       "      <th></th>\n",
       "      <th></th>\n",
       "    </tr>\n",
       "  </thead>\n",
       "  <tbody>\n",
       "    <tr>\n",
       "      <th>f</th>\n",
       "      <td>35265</td>\n",
       "      <td>7262</td>\n",
       "      <td>1670</td>\n",
       "      <td>2887</td>\n",
       "      <td>2567</td>\n",
       "      <td>360</td>\n",
       "      <td>115</td>\n",
       "      <td>353</td>\n",
       "    </tr>\n",
       "    <tr>\n",
       "      <th>t</th>\n",
       "      <td>8944</td>\n",
       "      <td>681</td>\n",
       "      <td>331</td>\n",
       "      <td>281</td>\n",
       "      <td>353</td>\n",
       "      <td>0</td>\n",
       "      <td>0</td>\n",
       "      <td>0</td>\n",
       "    </tr>\n",
       "  </tbody>\n",
       "</table>\n",
       "</div>"
      ],
      "text/plain": [
       "habitat                   d     g     h     l     m    p    u    w\n",
       "does-bruise-or-bleed                                              \n",
       "f                     35265  7262  1670  2887  2567  360  115  353\n",
       "t                      8944   681   331   281   353    0    0    0"
      ]
     },
     "execution_count": 47,
     "metadata": {},
     "output_type": "execute_result"
    }
   ],
   "source": [
    "hab = pd.crosstab(secondary_df['does-bruise-or-bleed'], secondary_df['habitat'])\n",
    "hab\n",
    "#lack of edible mushrooms near humans"
   ]
  },
  {
   "cell_type": "code",
   "execution_count": 50,
   "id": "c793ea3c",
   "metadata": {
    "scrolled": true
   },
   "outputs": [
    {
     "data": {
      "text/plain": [
       "[20.23117464769617,\n",
       " 8.573586805992697,\n",
       " 16.541729135432284,\n",
       " 8.869949494949495,\n",
       " 12.08904109589041,\n",
       " 0.0,\n",
       " 0.0,\n",
       " 0.0]"
      ]
     },
     "execution_count": 50,
     "metadata": {},
     "output_type": "execute_result"
    }
   ],
   "source": [
    "perc = lambda x: (hab[x]['t']*100)/np.sum(hab[x])\n",
    "list(map(perc, hab.columns))"
   ]
  },
  {
   "cell_type": "code",
   "execution_count": 51,
   "id": "76fd6fc3",
   "metadata": {
    "scrolled": true
   },
   "outputs": [
    {
     "data": {
      "text/html": [
       "<div>\n",
       "<style scoped>\n",
       "    .dataframe tbody tr th:only-of-type {\n",
       "        vertical-align: middle;\n",
       "    }\n",
       "\n",
       "    .dataframe tbody tr th {\n",
       "        vertical-align: top;\n",
       "    }\n",
       "\n",
       "    .dataframe thead th {\n",
       "        text-align: right;\n",
       "    }\n",
       "</style>\n",
       "<table border=\"1\" class=\"dataframe\">\n",
       "  <thead>\n",
       "    <tr style=\"text-align: right;\">\n",
       "      <th>habitat</th>\n",
       "      <th>d</th>\n",
       "      <th>g</th>\n",
       "      <th>h</th>\n",
       "      <th>l</th>\n",
       "      <th>m</th>\n",
       "      <th>p</th>\n",
       "      <th>u</th>\n",
       "      <th>w</th>\n",
       "    </tr>\n",
       "    <tr>\n",
       "      <th>does-bruise-or-bleed</th>\n",
       "      <th></th>\n",
       "      <th></th>\n",
       "      <th></th>\n",
       "      <th></th>\n",
       "      <th></th>\n",
       "      <th></th>\n",
       "      <th></th>\n",
       "      <th></th>\n",
       "    </tr>\n",
       "  </thead>\n",
       "  <tbody>\n",
       "    <tr>\n",
       "      <th>f</th>\n",
       "      <td>0.698607</td>\n",
       "      <td>0.143862</td>\n",
       "      <td>0.033083</td>\n",
       "      <td>0.057192</td>\n",
       "      <td>0.050853</td>\n",
       "      <td>0.007132</td>\n",
       "      <td>0.002278</td>\n",
       "      <td>0.006993</td>\n",
       "    </tr>\n",
       "    <tr>\n",
       "      <th>t</th>\n",
       "      <td>0.844570</td>\n",
       "      <td>0.064306</td>\n",
       "      <td>0.031256</td>\n",
       "      <td>0.026534</td>\n",
       "      <td>0.033333</td>\n",
       "      <td>0.000000</td>\n",
       "      <td>0.000000</td>\n",
       "      <td>0.000000</td>\n",
       "    </tr>\n",
       "  </tbody>\n",
       "</table>\n",
       "</div>"
      ],
      "text/plain": [
       "habitat                      d         g         h         l         m  \\\n",
       "does-bruise-or-bleed                                                     \n",
       "f                     0.698607  0.143862  0.033083  0.057192  0.050853   \n",
       "t                     0.844570  0.064306  0.031256  0.026534  0.033333   \n",
       "\n",
       "habitat                      p         u         w  \n",
       "does-bruise-or-bleed                                \n",
       "f                     0.007132  0.002278  0.006993  \n",
       "t                     0.000000  0.000000  0.000000  "
      ]
     },
     "execution_count": 51,
     "metadata": {},
     "output_type": "execute_result"
    }
   ],
   "source": [
    "pd.crosstab(secondary_df['does-bruise-or-bleed'], secondary_df['habitat'], normalize='index')\n",
    "#mushromms are most common in forests and in gresses. Highest percent of finding edible is also in forest group"
   ]
  },
  {
   "cell_type": "code",
   "execution_count": 25,
   "id": "1fdcb12e",
   "metadata": {},
   "outputs": [
    {
     "data": {
      "text/html": [
       "<div>\n",
       "<style scoped>\n",
       "    .dataframe tbody tr th:only-of-type {\n",
       "        vertical-align: middle;\n",
       "    }\n",
       "\n",
       "    .dataframe tbody tr th {\n",
       "        vertical-align: top;\n",
       "    }\n",
       "\n",
       "    .dataframe thead th {\n",
       "        text-align: right;\n",
       "    }\n",
       "</style>\n",
       "<table border=\"1\" class=\"dataframe\">\n",
       "  <thead>\n",
       "    <tr style=\"text-align: right;\">\n",
       "      <th>cap-color</th>\n",
       "      <th>b</th>\n",
       "      <th>e</th>\n",
       "      <th>g</th>\n",
       "      <th>k</th>\n",
       "      <th>l</th>\n",
       "      <th>n</th>\n",
       "      <th>o</th>\n",
       "      <th>p</th>\n",
       "      <th>r</th>\n",
       "      <th>u</th>\n",
       "      <th>w</th>\n",
       "      <th>y</th>\n",
       "    </tr>\n",
       "    <tr>\n",
       "      <th>does-bruise-or-bleed</th>\n",
       "      <th></th>\n",
       "      <th></th>\n",
       "      <th></th>\n",
       "      <th></th>\n",
       "      <th></th>\n",
       "      <th></th>\n",
       "      <th></th>\n",
       "      <th></th>\n",
       "      <th></th>\n",
       "      <th></th>\n",
       "      <th></th>\n",
       "      <th></th>\n",
       "    </tr>\n",
       "  </thead>\n",
       "  <tbody>\n",
       "    <tr>\n",
       "      <th>f</th>\n",
       "      <td>0.024367</td>\n",
       "      <td>0.063373</td>\n",
       "      <td>0.073575</td>\n",
       "      <td>0.023218</td>\n",
       "      <td>0.016403</td>\n",
       "      <td>0.390816</td>\n",
       "      <td>0.064264</td>\n",
       "      <td>0.022306</td>\n",
       "      <td>0.02300</td>\n",
       "      <td>0.030171</td>\n",
       "      <td>0.121655</td>\n",
       "      <td>0.146853</td>\n",
       "    </tr>\n",
       "    <tr>\n",
       "      <th>t</th>\n",
       "      <td>0.000000</td>\n",
       "      <td>0.078942</td>\n",
       "      <td>0.066667</td>\n",
       "      <td>0.010104</td>\n",
       "      <td>0.000000</td>\n",
       "      <td>0.423985</td>\n",
       "      <td>0.038905</td>\n",
       "      <td>0.054485</td>\n",
       "      <td>0.05864</td>\n",
       "      <td>0.017564</td>\n",
       "      <td>0.144004</td>\n",
       "      <td>0.106704</td>\n",
       "    </tr>\n",
       "  </tbody>\n",
       "</table>\n",
       "</div>"
      ],
      "text/plain": [
       "cap-color                    b         e         g         k         l  \\\n",
       "does-bruise-or-bleed                                                     \n",
       "f                     0.024367  0.063373  0.073575  0.023218  0.016403   \n",
       "t                     0.000000  0.078942  0.066667  0.010104  0.000000   \n",
       "\n",
       "cap-color                    n         o         p        r         u  \\\n",
       "does-bruise-or-bleed                                                    \n",
       "f                     0.390816  0.064264  0.022306  0.02300  0.030171   \n",
       "t                     0.423985  0.038905  0.054485  0.05864  0.017564   \n",
       "\n",
       "cap-color                    w         y  \n",
       "does-bruise-or-bleed                      \n",
       "f                     0.121655  0.146853  \n",
       "t                     0.144004  0.106704  "
      ]
     },
     "execution_count": 25,
     "metadata": {},
     "output_type": "execute_result"
    }
   ],
   "source": [
    "pd.crosstab(secondary_df['does-bruise-or-bleed'], secondary_df['cap-color'], normalize='index')"
   ]
  },
  {
   "cell_type": "code",
   "execution_count": 52,
   "id": "78fa4f2f",
   "metadata": {},
   "outputs": [
    {
     "data": {
      "text/html": [
       "<div>\n",
       "<style scoped>\n",
       "    .dataframe tbody tr th:only-of-type {\n",
       "        vertical-align: middle;\n",
       "    }\n",
       "\n",
       "    .dataframe tbody tr th {\n",
       "        vertical-align: top;\n",
       "    }\n",
       "\n",
       "    .dataframe thead th {\n",
       "        text-align: right;\n",
       "    }\n",
       "</style>\n",
       "<table border=\"1\" class=\"dataframe\">\n",
       "  <thead>\n",
       "    <tr style=\"text-align: right;\">\n",
       "      <th>cap-color</th>\n",
       "      <th>b</th>\n",
       "      <th>e</th>\n",
       "      <th>g</th>\n",
       "      <th>k</th>\n",
       "      <th>l</th>\n",
       "      <th>n</th>\n",
       "      <th>o</th>\n",
       "      <th>p</th>\n",
       "      <th>r</th>\n",
       "      <th>u</th>\n",
       "      <th>w</th>\n",
       "      <th>y</th>\n",
       "    </tr>\n",
       "    <tr>\n",
       "      <th>does-bruise-or-bleed</th>\n",
       "      <th></th>\n",
       "      <th></th>\n",
       "      <th></th>\n",
       "      <th></th>\n",
       "      <th></th>\n",
       "      <th></th>\n",
       "      <th></th>\n",
       "      <th></th>\n",
       "      <th></th>\n",
       "      <th></th>\n",
       "      <th></th>\n",
       "      <th></th>\n",
       "    </tr>\n",
       "  </thead>\n",
       "  <tbody>\n",
       "    <tr>\n",
       "      <th>f</th>\n",
       "      <td>1230</td>\n",
       "      <td>3199</td>\n",
       "      <td>3714</td>\n",
       "      <td>1172</td>\n",
       "      <td>828</td>\n",
       "      <td>19728</td>\n",
       "      <td>3244</td>\n",
       "      <td>1126</td>\n",
       "      <td>1161</td>\n",
       "      <td>1523</td>\n",
       "      <td>6141</td>\n",
       "      <td>7413</td>\n",
       "    </tr>\n",
       "    <tr>\n",
       "      <th>t</th>\n",
       "      <td>0</td>\n",
       "      <td>836</td>\n",
       "      <td>706</td>\n",
       "      <td>107</td>\n",
       "      <td>0</td>\n",
       "      <td>4490</td>\n",
       "      <td>412</td>\n",
       "      <td>577</td>\n",
       "      <td>621</td>\n",
       "      <td>186</td>\n",
       "      <td>1525</td>\n",
       "      <td>1130</td>\n",
       "    </tr>\n",
       "  </tbody>\n",
       "</table>\n",
       "</div>"
      ],
      "text/plain": [
       "cap-color                b     e     g     k    l      n     o     p     r  \\\n",
       "does-bruise-or-bleed                                                         \n",
       "f                     1230  3199  3714  1172  828  19728  3244  1126  1161   \n",
       "t                        0   836   706   107    0   4490   412   577   621   \n",
       "\n",
       "cap-color                u     w     y  \n",
       "does-bruise-or-bleed                    \n",
       "f                     1523  6141  7413  \n",
       "t                      186  1525  1130  "
      ]
     },
     "execution_count": 52,
     "metadata": {},
     "output_type": "execute_result"
    }
   ],
   "source": [
    "cap_col = pd.crosstab(secondary_df['does-bruise-or-bleed'], secondary_df['cap-color'])\n",
    "cap_col"
   ]
  },
  {
   "cell_type": "code",
   "execution_count": 69,
   "id": "7481d6eb",
   "metadata": {},
   "outputs": [
    {
     "data": {
      "text/html": [
       "<div>\n",
       "<style scoped>\n",
       "    .dataframe tbody tr th:only-of-type {\n",
       "        vertical-align: middle;\n",
       "    }\n",
       "\n",
       "    .dataframe tbody tr th {\n",
       "        vertical-align: top;\n",
       "    }\n",
       "\n",
       "    .dataframe thead th {\n",
       "        text-align: right;\n",
       "    }\n",
       "</style>\n",
       "<table border=\"1\" class=\"dataframe\">\n",
       "  <thead>\n",
       "    <tr style=\"text-align: right;\">\n",
       "      <th></th>\n",
       "      <th>b</th>\n",
       "      <th>e</th>\n",
       "      <th>g</th>\n",
       "      <th>k</th>\n",
       "      <th>l</th>\n",
       "      <th>n</th>\n",
       "      <th>o</th>\n",
       "      <th>p</th>\n",
       "      <th>r</th>\n",
       "      <th>u</th>\n",
       "      <th>w</th>\n",
       "      <th>y</th>\n",
       "    </tr>\n",
       "  </thead>\n",
       "  <tbody>\n",
       "    <tr>\n",
       "      <th>t to f</th>\n",
       "      <td>0.0</td>\n",
       "      <td>20.718711</td>\n",
       "      <td>15.972851</td>\n",
       "      <td>8.365911</td>\n",
       "      <td>0.0</td>\n",
       "      <td>18.539929</td>\n",
       "      <td>11.269147</td>\n",
       "      <td>33.881386</td>\n",
       "      <td>34.848485</td>\n",
       "      <td>10.883558</td>\n",
       "      <td>19.893034</td>\n",
       "      <td>13.227204</td>\n",
       "    </tr>\n",
       "  </tbody>\n",
       "</table>\n",
       "</div>"
      ],
      "text/plain": [
       "          b          e          g         k    l          n          o  \\\n",
       "t to f  0.0  20.718711  15.972851  8.365911  0.0  18.539929  11.269147   \n",
       "\n",
       "                p          r          u          w          y  \n",
       "t to f  33.881386  34.848485  10.883558  19.893034  13.227204  "
      ]
     },
     "execution_count": 69,
     "metadata": {},
     "output_type": "execute_result"
    }
   ],
   "source": [
    "cap_perc = dict(map(lambda x: (x,(cap_col[x]['t']*100)/np.sum(cap_col[x])), cap_col.columns))\n",
    "pd.DataFrame(index=['t to f'], data=cap_perc)\n",
    "#"
   ]
  }
 ],
 "metadata": {
  "kernelspec": {
   "display_name": "Python 3 (ipykernel)",
   "language": "python",
   "name": "python3"
  },
  "language_info": {
   "codemirror_mode": {
    "name": "ipython",
    "version": 3
   },
   "file_extension": ".py",
   "mimetype": "text/x-python",
   "name": "python",
   "nbconvert_exporter": "python",
   "pygments_lexer": "ipython3",
   "version": "3.10.6"
  }
 },
 "nbformat": 4,
 "nbformat_minor": 5
}
