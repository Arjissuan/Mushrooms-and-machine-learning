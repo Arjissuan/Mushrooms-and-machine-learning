{
 "cells": [
  {
   "cell_type": "code",
   "execution_count": 3,
   "id": "1fd54a08",
   "metadata": {},
   "outputs": [],
   "source": [
    "from data_access.data_source import DataSource\n",
    "import pandas as pd\n",
    "import numpy as np\n",
    "import os\n",
    "import matplotlib.pyplot as plt\n",
    "import seaborn as sns\n",
    "from scipy.stats import norm\n",
    "from sklearn.preprocessing import StandardScaler\n",
    "from scipy import stats\n",
    "import warnings\n",
    "from sklearn.datasets import load_iris\n",
    "warnings.filterwarnings('ignore')\n",
    "%matplotlib inline\n"
   ]
  },
  {
   "cell_type": "code",
   "execution_count": 4,
   "id": "efe54872",
   "metadata": {},
   "outputs": [],
   "source": [
    "ds = DataSource()\n",
    "primary_df = ds.get_primary_data_frame()\n",
    "secondary_df = ds.get_secondary_data_frame()\n"
   ]
  },
  {
   "cell_type": "code",
   "execution_count": 7,
   "id": "25298814",
   "metadata": {},
   "outputs": [
    {
     "data": {
      "text/plain": [
       "<AxesSubplot:ylabel='None'>"
      ]
     },
     "execution_count": 7,
     "metadata": {},
     "output_type": "execute_result"
    },
    {
     "data": {
      "image/png": "[encoded data removed]",
      "text/plain": [
       "<Figure size 432x288 with 1 Axes>"
      ]
     },
     "metadata": {},
     "output_type": "display_data"
    }
   ],
   "source": [
    "secondary_df.groupby(\"clas\").size()"
   ]
  },
  {
   "cell_type": "code",
   "execution_count": 6,
   "id": "85d22c12",
   "metadata": {},
   "outputs": [
    {
     "data": {
      "text/plain": [
       "Index(['family', 'name', 'class', 'cap-diameter', 'cap-shape', 'cap-surface',\n",
       "       'cap-color', 'does-bruise-or-bleed', 'gill-attachment', 'gill-spacing',\n",
       "       'gill-color', 'stem-height', 'stem-width', 'stem-root', 'stem-surface',\n",
       "       'stem-color', 'veil-type', 'veil-color', 'has-ring', 'ring-type',\n",
       "       'spore-print-color', 'habitat', 'season'],\n",
       "      dtype='object')"
      ]
     },
     "execution_count": 6,
     "metadata": {},
     "output_type": "execute_result"
    }
   ],
   "source": [
    "primary_df.columns"
   ]
  },
  {
   "cell_type": "code",
   "execution_count": 6,
   "id": "27079df8",
   "metadata": {},
   "outputs": [
    {
     "data": {
      "text/plain": [
       "Index(['clas', 'cap-diameter', 'cap-shape', 'cap-surface', 'cap-color',\n",
       "       'does-bruise-or-bleed', 'gill-attachment', 'gill-spacing', 'gill-color',\n",
       "       'stem-height', 'stem-width', 'stem-root', 'stem-surface', 'stem-color',\n",
       "       'veil-type', 'veil-color', 'has-ring', 'ring-type', 'spore-print-color',\n",
       "       'habitat', 'season'],\n",
       "      dtype='object')"
      ]
     },
     "execution_count": 6,
     "metadata": {},
     "output_type": "execute_result"
    }
   ],
   "source": [
    "secondary_df.columns\n"
   ]
  },
  {
   "cell_type": "code",
   "execution_count": 7,
   "id": "fda16e88",
   "metadata": {},
   "outputs": [
    {
     "data": {
      "text/html": [
       "<div>\n",
       "<style scoped>\n",
       "    .dataframe tbody tr th:only-of-type {\n",
       "        vertical-align: middle;\n",
       "    }\n",
       "\n",
       "    .dataframe tbody tr th {\n",
       "        vertical-align: top;\n",
       "    }\n",
       "\n",
       "    .dataframe thead th {\n",
       "        text-align: right;\n",
       "    }\n",
       "</style>\n",
       "<table border=\"1\" class=\"dataframe\">\n",
       "  <thead>\n",
       "    <tr style=\"text-align: right;\">\n",
       "      <th></th>\n",
       "      <th>clas</th>\n",
       "      <th>cap-diameter</th>\n",
       "      <th>cap-shape</th>\n",
       "      <th>cap-surface</th>\n",
       "      <th>cap-color</th>\n",
       "      <th>does-bruise-or-bleed</th>\n",
       "      <th>gill-attachment</th>\n",
       "      <th>gill-spacing</th>\n",
       "      <th>gill-color</th>\n",
       "      <th>stem-height</th>\n",
       "      <th>...</th>\n",
       "      <th>stem-root</th>\n",
       "      <th>stem-surface</th>\n",
       "      <th>stem-color</th>\n",
       "      <th>veil-type</th>\n",
       "      <th>veil-color</th>\n",
       "      <th>has-ring</th>\n",
       "      <th>ring-type</th>\n",
       "      <th>spore-print-color</th>\n",
       "      <th>habitat</th>\n",
       "      <th>season</th>\n",
       "    </tr>\n",
       "  </thead>\n",
       "  <tbody>\n",
       "    <tr>\n",
       "      <th>0</th>\n",
       "      <td>p</td>\n",
       "      <td>15.26</td>\n",
       "      <td>x</td>\n",
       "      <td>g</td>\n",
       "      <td>o</td>\n",
       "      <td>f</td>\n",
       "      <td>e</td>\n",
       "      <td>NaN</td>\n",
       "      <td>w</td>\n",
       "      <td>16.95</td>\n",
       "      <td>...</td>\n",
       "      <td>s</td>\n",
       "      <td>y</td>\n",
       "      <td>w</td>\n",
       "      <td>u</td>\n",
       "      <td>w</td>\n",
       "      <td>t</td>\n",
       "      <td>g</td>\n",
       "      <td>NaN</td>\n",
       "      <td>d</td>\n",
       "      <td>w</td>\n",
       "    </tr>\n",
       "    <tr>\n",
       "      <th>1</th>\n",
       "      <td>p</td>\n",
       "      <td>16.60</td>\n",
       "      <td>x</td>\n",
       "      <td>g</td>\n",
       "      <td>o</td>\n",
       "      <td>f</td>\n",
       "      <td>e</td>\n",
       "      <td>NaN</td>\n",
       "      <td>w</td>\n",
       "      <td>17.99</td>\n",
       "      <td>...</td>\n",
       "      <td>s</td>\n",
       "      <td>y</td>\n",
       "      <td>w</td>\n",
       "      <td>u</td>\n",
       "      <td>w</td>\n",
       "      <td>t</td>\n",
       "      <td>g</td>\n",
       "      <td>NaN</td>\n",
       "      <td>d</td>\n",
       "      <td>u</td>\n",
       "    </tr>\n",
       "    <tr>\n",
       "      <th>2</th>\n",
       "      <td>p</td>\n",
       "      <td>14.07</td>\n",
       "      <td>x</td>\n",
       "      <td>g</td>\n",
       "      <td>o</td>\n",
       "      <td>f</td>\n",
       "      <td>e</td>\n",
       "      <td>NaN</td>\n",
       "      <td>w</td>\n",
       "      <td>17.80</td>\n",
       "      <td>...</td>\n",
       "      <td>s</td>\n",
       "      <td>y</td>\n",
       "      <td>w</td>\n",
       "      <td>u</td>\n",
       "      <td>w</td>\n",
       "      <td>t</td>\n",
       "      <td>g</td>\n",
       "      <td>NaN</td>\n",
       "      <td>d</td>\n",
       "      <td>w</td>\n",
       "    </tr>\n",
       "    <tr>\n",
       "      <th>3</th>\n",
       "      <td>p</td>\n",
       "      <td>14.17</td>\n",
       "      <td>f</td>\n",
       "      <td>h</td>\n",
       "      <td>e</td>\n",
       "      <td>f</td>\n",
       "      <td>e</td>\n",
       "      <td>NaN</td>\n",
       "      <td>w</td>\n",
       "      <td>15.77</td>\n",
       "      <td>...</td>\n",
       "      <td>s</td>\n",
       "      <td>y</td>\n",
       "      <td>w</td>\n",
       "      <td>u</td>\n",
       "      <td>w</td>\n",
       "      <td>t</td>\n",
       "      <td>p</td>\n",
       "      <td>NaN</td>\n",
       "      <td>d</td>\n",
       "      <td>w</td>\n",
       "    </tr>\n",
       "    <tr>\n",
       "      <th>4</th>\n",
       "      <td>p</td>\n",
       "      <td>14.64</td>\n",
       "      <td>x</td>\n",
       "      <td>h</td>\n",
       "      <td>o</td>\n",
       "      <td>f</td>\n",
       "      <td>e</td>\n",
       "      <td>NaN</td>\n",
       "      <td>w</td>\n",
       "      <td>16.53</td>\n",
       "      <td>...</td>\n",
       "      <td>s</td>\n",
       "      <td>y</td>\n",
       "      <td>w</td>\n",
       "      <td>u</td>\n",
       "      <td>w</td>\n",
       "      <td>t</td>\n",
       "      <td>p</td>\n",
       "      <td>NaN</td>\n",
       "      <td>d</td>\n",
       "      <td>w</td>\n",
       "    </tr>\n",
       "    <tr>\n",
       "      <th>...</th>\n",
       "      <td>...</td>\n",
       "      <td>...</td>\n",
       "      <td>...</td>\n",
       "      <td>...</td>\n",
       "      <td>...</td>\n",
       "      <td>...</td>\n",
       "      <td>...</td>\n",
       "      <td>...</td>\n",
       "      <td>...</td>\n",
       "      <td>...</td>\n",
       "      <td>...</td>\n",
       "      <td>...</td>\n",
       "      <td>...</td>\n",
       "      <td>...</td>\n",
       "      <td>...</td>\n",
       "      <td>...</td>\n",
       "      <td>...</td>\n",
       "      <td>...</td>\n",
       "      <td>...</td>\n",
       "      <td>...</td>\n",
       "      <td>...</td>\n",
       "    </tr>\n",
       "    <tr>\n",
       "      <th>61064</th>\n",
       "      <td>p</td>\n",
       "      <td>1.18</td>\n",
       "      <td>s</td>\n",
       "      <td>s</td>\n",
       "      <td>y</td>\n",
       "      <td>f</td>\n",
       "      <td>f</td>\n",
       "      <td>f</td>\n",
       "      <td>f</td>\n",
       "      <td>3.93</td>\n",
       "      <td>...</td>\n",
       "      <td>NaN</td>\n",
       "      <td>NaN</td>\n",
       "      <td>y</td>\n",
       "      <td>NaN</td>\n",
       "      <td>NaN</td>\n",
       "      <td>f</td>\n",
       "      <td>f</td>\n",
       "      <td>NaN</td>\n",
       "      <td>d</td>\n",
       "      <td>a</td>\n",
       "    </tr>\n",
       "    <tr>\n",
       "      <th>61065</th>\n",
       "      <td>p</td>\n",
       "      <td>1.27</td>\n",
       "      <td>f</td>\n",
       "      <td>s</td>\n",
       "      <td>y</td>\n",
       "      <td>f</td>\n",
       "      <td>f</td>\n",
       "      <td>f</td>\n",
       "      <td>f</td>\n",
       "      <td>3.18</td>\n",
       "      <td>...</td>\n",
       "      <td>NaN</td>\n",
       "      <td>NaN</td>\n",
       "      <td>y</td>\n",
       "      <td>NaN</td>\n",
       "      <td>NaN</td>\n",
       "      <td>f</td>\n",
       "      <td>f</td>\n",
       "      <td>NaN</td>\n",
       "      <td>d</td>\n",
       "      <td>a</td>\n",
       "    </tr>\n",
       "    <tr>\n",
       "      <th>61066</th>\n",
       "      <td>p</td>\n",
       "      <td>1.27</td>\n",
       "      <td>s</td>\n",
       "      <td>s</td>\n",
       "      <td>y</td>\n",
       "      <td>f</td>\n",
       "      <td>f</td>\n",
       "      <td>f</td>\n",
       "      <td>f</td>\n",
       "      <td>3.86</td>\n",
       "      <td>...</td>\n",
       "      <td>NaN</td>\n",
       "      <td>NaN</td>\n",
       "      <td>y</td>\n",
       "      <td>NaN</td>\n",
       "      <td>NaN</td>\n",
       "      <td>f</td>\n",
       "      <td>f</td>\n",
       "      <td>NaN</td>\n",
       "      <td>d</td>\n",
       "      <td>u</td>\n",
       "    </tr>\n",
       "    <tr>\n",
       "      <th>61067</th>\n",
       "      <td>p</td>\n",
       "      <td>1.24</td>\n",
       "      <td>f</td>\n",
       "      <td>s</td>\n",
       "      <td>y</td>\n",
       "      <td>f</td>\n",
       "      <td>f</td>\n",
       "      <td>f</td>\n",
       "      <td>f</td>\n",
       "      <td>3.56</td>\n",
       "      <td>...</td>\n",
       "      <td>NaN</td>\n",
       "      <td>NaN</td>\n",
       "      <td>y</td>\n",
       "      <td>NaN</td>\n",
       "      <td>NaN</td>\n",
       "      <td>f</td>\n",
       "      <td>f</td>\n",
       "      <td>NaN</td>\n",
       "      <td>d</td>\n",
       "      <td>u</td>\n",
       "    </tr>\n",
       "    <tr>\n",
       "      <th>61068</th>\n",
       "      <td>p</td>\n",
       "      <td>1.17</td>\n",
       "      <td>s</td>\n",
       "      <td>s</td>\n",
       "      <td>y</td>\n",
       "      <td>f</td>\n",
       "      <td>f</td>\n",
       "      <td>f</td>\n",
       "      <td>f</td>\n",
       "      <td>3.25</td>\n",
       "      <td>...</td>\n",
       "      <td>NaN</td>\n",
       "      <td>NaN</td>\n",
       "      <td>y</td>\n",
       "      <td>NaN</td>\n",
       "      <td>NaN</td>\n",
       "      <td>f</td>\n",
       "      <td>f</td>\n",
       "      <td>NaN</td>\n",
       "      <td>d</td>\n",
       "      <td>u</td>\n",
       "    </tr>\n",
       "  </tbody>\n",
       "</table>\n",
       "<p>61069 rows × 21 columns</p>\n",
       "</div>"
      ],
      "text/plain": [
       "      clas  cap-diameter cap-shape cap-surface cap-color does-bruise-or-bleed  \\\n",
       "0        p         15.26         x           g         o                    f   \n",
       "1        p         16.60         x           g         o                    f   \n",
       "2        p         14.07         x           g         o                    f   \n",
       "3        p         14.17         f           h         e                    f   \n",
       "4        p         14.64         x           h         o                    f   \n",
       "...    ...           ...       ...         ...       ...                  ...   \n",
       "61064    p          1.18         s           s         y                    f   \n",
       "61065    p          1.27         f           s         y                    f   \n",
       "61066    p          1.27         s           s         y                    f   \n",
       "61067    p          1.24         f           s         y                    f   \n",
       "61068    p          1.17         s           s         y                    f   \n",
       "\n",
       "      gill-attachment gill-spacing gill-color  stem-height  ...  stem-root  \\\n",
       "0                   e          NaN          w        16.95  ...          s   \n",
       "1                   e          NaN          w        17.99  ...          s   \n",
       "2                   e          NaN          w        17.80  ...          s   \n",
       "3                   e          NaN          w        15.77  ...          s   \n",
       "4                   e          NaN          w        16.53  ...          s   \n",
       "...               ...          ...        ...          ...  ...        ...   \n",
       "61064               f            f          f         3.93  ...        NaN   \n",
       "61065               f            f          f         3.18  ...        NaN   \n",
       "61066               f            f          f         3.86  ...        NaN   \n",
       "61067               f            f          f         3.56  ...        NaN   \n",
       "61068               f            f          f         3.25  ...        NaN   \n",
       "\n",
       "      stem-surface stem-color veil-type veil-color has-ring ring-type  \\\n",
       "0                y          w         u          w        t         g   \n",
       "1                y          w         u          w        t         g   \n",
       "2                y          w         u          w        t         g   \n",
       "3                y          w         u          w        t         p   \n",
       "4                y          w         u          w        t         p   \n",
       "...            ...        ...       ...        ...      ...       ...   \n",
       "61064          NaN          y       NaN        NaN        f         f   \n",
       "61065          NaN          y       NaN        NaN        f         f   \n",
       "61066          NaN          y       NaN        NaN        f         f   \n",
       "61067          NaN          y       NaN        NaN        f         f   \n",
       "61068          NaN          y       NaN        NaN        f         f   \n",
       "\n",
       "      spore-print-color habitat season  \n",
       "0                   NaN       d      w  \n",
       "1                   NaN       d      u  \n",
       "2                   NaN       d      w  \n",
       "3                   NaN       d      w  \n",
       "4                   NaN       d      w  \n",
       "...                 ...     ...    ...  \n",
       "61064               NaN       d      a  \n",
       "61065               NaN       d      a  \n",
       "61066               NaN       d      u  \n",
       "61067               NaN       d      u  \n",
       "61068               NaN       d      u  \n",
       "\n",
       "[61069 rows x 21 columns]"
      ]
     },
     "execution_count": 7,
     "metadata": {},
     "output_type": "execute_result"
    }
   ],
   "source": [
    "secondary_df"
   ]
  },
  {
   "cell_type": "code",
   "execution_count": 8,
   "id": "a940552c",
   "metadata": {},
   "outputs": [
    {
     "data": {
      "text/html": [
       "<div>\n",
       "<style scoped>\n",
       "    .dataframe tbody tr th:only-of-type {\n",
       "        vertical-align: middle;\n",
       "    }\n",
       "\n",
       "    .dataframe tbody tr th {\n",
       "        vertical-align: top;\n",
       "    }\n",
       "\n",
       "    .dataframe thead th {\n",
       "        text-align: right;\n",
       "    }\n",
       "</style>\n",
       "<table border=\"1\" class=\"dataframe\">\n",
       "  <thead>\n",
       "    <tr style=\"text-align: right;\">\n",
       "      <th></th>\n",
       "      <th>cap-diameter</th>\n",
       "      <th>stem-height</th>\n",
       "      <th>stem-width</th>\n",
       "    </tr>\n",
       "  </thead>\n",
       "  <tbody>\n",
       "    <tr>\n",
       "      <th>count</th>\n",
       "      <td>61069.000000</td>\n",
       "      <td>61069.000000</td>\n",
       "      <td>61069.000000</td>\n",
       "    </tr>\n",
       "    <tr>\n",
       "      <th>mean</th>\n",
       "      <td>6.733854</td>\n",
       "      <td>6.581538</td>\n",
       "      <td>12.149410</td>\n",
       "    </tr>\n",
       "    <tr>\n",
       "      <th>std</th>\n",
       "      <td>5.264845</td>\n",
       "      <td>3.370017</td>\n",
       "      <td>10.035955</td>\n",
       "    </tr>\n",
       "    <tr>\n",
       "      <th>min</th>\n",
       "      <td>0.380000</td>\n",
       "      <td>0.000000</td>\n",
       "      <td>0.000000</td>\n",
       "    </tr>\n",
       "    <tr>\n",
       "      <th>25%</th>\n",
       "      <td>3.480000</td>\n",
       "      <td>4.640000</td>\n",
       "      <td>5.210000</td>\n",
       "    </tr>\n",
       "    <tr>\n",
       "      <th>50%</th>\n",
       "      <td>5.860000</td>\n",
       "      <td>5.950000</td>\n",
       "      <td>10.190000</td>\n",
       "    </tr>\n",
       "    <tr>\n",
       "      <th>75%</th>\n",
       "      <td>8.540000</td>\n",
       "      <td>7.740000</td>\n",
       "      <td>16.570000</td>\n",
       "    </tr>\n",
       "    <tr>\n",
       "      <th>max</th>\n",
       "      <td>62.340000</td>\n",
       "      <td>33.920000</td>\n",
       "      <td>103.910000</td>\n",
       "    </tr>\n",
       "  </tbody>\n",
       "</table>\n",
       "</div>"
      ],
      "text/plain": [
       "       cap-diameter   stem-height    stem-width\n",
       "count  61069.000000  61069.000000  61069.000000\n",
       "mean       6.733854      6.581538     12.149410\n",
       "std        5.264845      3.370017     10.035955\n",
       "min        0.380000      0.000000      0.000000\n",
       "25%        3.480000      4.640000      5.210000\n",
       "50%        5.860000      5.950000     10.190000\n",
       "75%        8.540000      7.740000     16.570000\n",
       "max       62.340000     33.920000    103.910000"
      ]
     },
     "execution_count": 8,
     "metadata": {},
     "output_type": "execute_result"
    }
   ],
   "source": [
    "secondary_df.describe()"
   ]
  },
  {
   "cell_type": "code",
   "execution_count": 9,
   "id": "ebacd8c9",
   "metadata": {},
   "outputs": [
    {
     "data": {
      "text/plain": [
       "<AxesSubplot:>"
      ]
     },
     "execution_count": 9,
     "metadata": {},
     "output_type": "execute_result"
    },
    {
     "data": {
      "image/png": "[encoded data removed]",
      "text/plain": [
       "<Figure size 432x288 with 1 Axes>"
      ]
     },
     "metadata": {
      "needs_background": "light"
     },
     "output_type": "display_data"
    }
   ],
   "source": [
    "secondary_df[['cap-diameter', 'stem-height', 'stem-width']].boxplot()"
   ]
  },
  {
   "cell_type": "code",
   "execution_count": 10,
   "id": "32194f72",
   "metadata": {},
   "outputs": [
    {
     "data": {
      "text/plain": [
       "<AxesSubplot:xlabel='cap-diameter', ylabel='Density'>"
      ]
     },
     "execution_count": 10,
     "metadata": {},
     "output_type": "execute_result"
    },
    {
     "data": {
      "image/png": "[encoded data removed]",
      "text/plain": [
       "<Figure size 432x288 with 1 Axes>"
      ]
     },
     "metadata": {
      "needs_background": "light"
     },
     "output_type": "display_data"
    }
   ],
   "source": [
    "sns.distplot(secondary_df['cap-diameter'])"
   ]
  },
  {
   "cell_type": "code",
   "execution_count": 11,
   "id": "859b37bf",
   "metadata": {},
   "outputs": [
    {
     "name": "stdout",
     "output_type": "stream",
     "text": [
      "Skewness: 3.8228439765098257\n",
      "Kurtosis: 27.077466724882328\n"
     ]
    }
   ],
   "source": [
    "print('Skewness: {}'.format(secondary_df['cap-diameter'].skew()))\n",
    "print('Kurtosis: {}'.format(secondary_df['cap-diameter'].kurt()))"
   ]
  },
  {
   "cell_type": "code",
   "execution_count": 12,
   "id": "37dd0fa2",
   "metadata": {},
   "outputs": [
    {
     "data": {
      "text/plain": [
       "<AxesSubplot:xlabel='stem-height', ylabel='cap-diameter'>"
      ]
     },
     "execution_count": 12,
     "metadata": {},
     "output_type": "execute_result"
    },
    {
     "data": {
      "image/png": "[encoded data removed]",
      "text/plain": [
       "<Figure size 432x288 with 1 Axes>"
      ]
     },
     "metadata": {
      "needs_background": "light"
     },
     "output_type": "display_data"
    }
   ],
   "source": [
    "#scatterplot\n",
    "diam= 'cap-diameter'\n",
    "surf = 'stem-height'\n",
    "data = pd.concat([secondary_df[diam], secondary_df[surf]], axis=1)\n",
    "data.plot.scatter(y=diam,x=surf)\n"
   ]
  },
  {
   "cell_type": "code",
   "execution_count": 13,
   "id": "caf48950",
   "metadata": {
    "scrolled": true
   },
   "outputs": [
    {
     "data": {
      "text/plain": [
       "<AxesSubplot:xlabel='stem-width', ylabel='cap-diameter'>"
      ]
     },
     "execution_count": 13,
     "metadata": {},
     "output_type": "execute_result"
    },
    {
     "data": {
      "image/png": "[encoded data removed]",
      "text/plain": [
       "<Figure size 432x288 with 1 Axes>"
      ]
     },
     "metadata": {
      "needs_background": "light"
     },
     "output_type": "display_data"
    }
   ],
   "source": [
    "wid = \"stem-width\"\n",
    "vector = pd.concat([secondary_df[diam], secondary_df[wid]], axis=1)\n",
    "vector.plot.scatter(y=diam, x=wid)"
   ]
  },
  {
   "cell_type": "code",
   "execution_count": 14,
   "id": "7526aa67",
   "metadata": {},
   "outputs": [
    {
     "data": {
      "text/plain": [
       "(-0.5, 6.5, 0.0, 90.0)"
      ]
     },
     "execution_count": 14,
     "metadata": {},
     "output_type": "execute_result"
    },
    {
     "data": {
      "image/png": "[encoded data removed]",
      "text/plain": [
       "<Figure size 576x432 with 1 Axes>"
      ]
     },
     "metadata": {
      "needs_background": "light"
     },
     "output_type": "display_data"
    }
   ],
   "source": [
    "shp = 'cap-shape'\n",
    "boxes = pd.concat([ds.get_secondary_data_frame()[diam], ds.get_secondary_data_frame()[shp]], axis=1)\n",
    "f,ax = plt.subplots(figsize=(8,6))\n",
    "fig = sns.boxplot(y=boxes[diam], x=boxes[shp])\n",
    "fig.axis(ymin=0, ymax=90)\n",
    "\n"
   ]
  },
  {
   "cell_type": "code",
   "execution_count": 15,
   "id": "caa7ced6",
   "metadata": {},
   "outputs": [
    {
     "data": {
      "text/plain": [
       "<AxesSubplot:>"
      ]
     },
     "execution_count": 15,
     "metadata": {},
     "output_type": "execute_result"
    },
    {
     "data": {
      "image/png": "[encoded data removed]",
      "text/plain": [
       "<Figure size 432x288 with 2 Axes>"
      ]
     },
     "metadata": {
      "needs_background": "light"
     },
     "output_type": "display_data"
    }
   ],
   "source": [
    "#heatmap\n",
    "sns.heatmap(secondary_df.corr())"
   ]
  },
  {
   "cell_type": "code",
   "execution_count": 16,
   "id": "37197717",
   "metadata": {},
   "outputs": [
    {
     "data": {
      "text/plain": [
       "(array([0, 1, 2, 3, 4, 5, 6, 7]),\n",
       " [Text(0, 0, 'd'),\n",
       "  Text(1, 0, 'm'),\n",
       "  Text(2, 0, 'g'),\n",
       "  Text(3, 0, 'h'),\n",
       "  Text(4, 0, 'l'),\n",
       "  Text(5, 0, 'p'),\n",
       "  Text(6, 0, 'w'),\n",
       "  Text(7, 0, 'u')])"
      ]
     },
     "execution_count": 16,
     "metadata": {},
     "output_type": "execute_result"
    },
    {
     "data": {
      "image/png": "[encoded data removed]",
      "text/plain": [
       "<Figure size 432x288 with 1 Axes>"
      ]
     },
     "metadata": {
      "needs_background": "light"
     },
     "output_type": "display_data"
    }
   ],
   "source": [
    "hb = 'habitat'\n",
    "cp = np.multiply(np.power(np.array(secondary_df['cap-diameter']),2), np.pi)\n",
    "bxs = pd.concat([secondary_df[hb], pd.DataFrame({\"cap-field\":cp})], axis=1)\n",
    "fig = sns.boxplot(y=bxs['cap-field'], x=bxs[hb])\n",
    "plt.xticks(rotation=90)"
   ]
  },
  {
   "cell_type": "code",
   "execution_count": 17,
   "id": "9d319dba",
   "metadata": {},
   "outputs": [
    {
     "data": {
      "text/html": [
       "<div>\n",
       "<style scoped>\n",
       "    .dataframe tbody tr th:only-of-type {\n",
       "        vertical-align: middle;\n",
       "    }\n",
       "\n",
       "    .dataframe tbody tr th {\n",
       "        vertical-align: top;\n",
       "    }\n",
       "\n",
       "    .dataframe thead th {\n",
       "        text-align: right;\n",
       "    }\n",
       "</style>\n",
       "<table border=\"1\" class=\"dataframe\">\n",
       "  <thead>\n",
       "    <tr style=\"text-align: right;\">\n",
       "      <th></th>\n",
       "      <th>Total</th>\n",
       "      <th>Percent</th>\n",
       "    </tr>\n",
       "  </thead>\n",
       "  <tbody>\n",
       "    <tr>\n",
       "      <th>veil-type</th>\n",
       "      <td>57892</td>\n",
       "      <td>0.947977</td>\n",
       "    </tr>\n",
       "    <tr>\n",
       "      <th>spore-print-color</th>\n",
       "      <td>54715</td>\n",
       "      <td>0.895954</td>\n",
       "    </tr>\n",
       "    <tr>\n",
       "      <th>veil-color</th>\n",
       "      <td>53656</td>\n",
       "      <td>0.878613</td>\n",
       "    </tr>\n",
       "    <tr>\n",
       "      <th>stem-root</th>\n",
       "      <td>51538</td>\n",
       "      <td>0.843931</td>\n",
       "    </tr>\n",
       "    <tr>\n",
       "      <th>stem-surface</th>\n",
       "      <td>38124</td>\n",
       "      <td>0.624277</td>\n",
       "    </tr>\n",
       "    <tr>\n",
       "      <th>gill-spacing</th>\n",
       "      <td>25063</td>\n",
       "      <td>0.410405</td>\n",
       "    </tr>\n",
       "    <tr>\n",
       "      <th>cap-surface</th>\n",
       "      <td>14120</td>\n",
       "      <td>0.231214</td>\n",
       "    </tr>\n",
       "    <tr>\n",
       "      <th>gill-attachment</th>\n",
       "      <td>9884</td>\n",
       "      <td>0.161850</td>\n",
       "    </tr>\n",
       "    <tr>\n",
       "      <th>ring-type</th>\n",
       "      <td>2471</td>\n",
       "      <td>0.040462</td>\n",
       "    </tr>\n",
       "    <tr>\n",
       "      <th>clas</th>\n",
       "      <td>0</td>\n",
       "      <td>0.000000</td>\n",
       "    </tr>\n",
       "    <tr>\n",
       "      <th>stem-color</th>\n",
       "      <td>0</td>\n",
       "      <td>0.000000</td>\n",
       "    </tr>\n",
       "    <tr>\n",
       "      <th>habitat</th>\n",
       "      <td>0</td>\n",
       "      <td>0.000000</td>\n",
       "    </tr>\n",
       "    <tr>\n",
       "      <th>has-ring</th>\n",
       "      <td>0</td>\n",
       "      <td>0.000000</td>\n",
       "    </tr>\n",
       "    <tr>\n",
       "      <th>stem-width</th>\n",
       "      <td>0</td>\n",
       "      <td>0.000000</td>\n",
       "    </tr>\n",
       "    <tr>\n",
       "      <th>cap-diameter</th>\n",
       "      <td>0</td>\n",
       "      <td>0.000000</td>\n",
       "    </tr>\n",
       "    <tr>\n",
       "      <th>stem-height</th>\n",
       "      <td>0</td>\n",
       "      <td>0.000000</td>\n",
       "    </tr>\n",
       "    <tr>\n",
       "      <th>gill-color</th>\n",
       "      <td>0</td>\n",
       "      <td>0.000000</td>\n",
       "    </tr>\n",
       "    <tr>\n",
       "      <th>does-bruise-or-bleed</th>\n",
       "      <td>0</td>\n",
       "      <td>0.000000</td>\n",
       "    </tr>\n",
       "    <tr>\n",
       "      <th>cap-color</th>\n",
       "      <td>0</td>\n",
       "      <td>0.000000</td>\n",
       "    </tr>\n",
       "    <tr>\n",
       "      <th>cap-shape</th>\n",
       "      <td>0</td>\n",
       "      <td>0.000000</td>\n",
       "    </tr>\n",
       "  </tbody>\n",
       "</table>\n",
       "</div>"
      ],
      "text/plain": [
       "                      Total   Percent\n",
       "veil-type             57892  0.947977\n",
       "spore-print-color     54715  0.895954\n",
       "veil-color            53656  0.878613\n",
       "stem-root             51538  0.843931\n",
       "stem-surface          38124  0.624277\n",
       "gill-spacing          25063  0.410405\n",
       "cap-surface           14120  0.231214\n",
       "gill-attachment        9884  0.161850\n",
       "ring-type              2471  0.040462\n",
       "clas                      0  0.000000\n",
       "stem-color                0  0.000000\n",
       "habitat                   0  0.000000\n",
       "has-ring                  0  0.000000\n",
       "stem-width                0  0.000000\n",
       "cap-diameter              0  0.000000\n",
       "stem-height               0  0.000000\n",
       "gill-color                0  0.000000\n",
       "does-bruise-or-bleed      0  0.000000\n",
       "cap-color                 0  0.000000\n",
       "cap-shape                 0  0.000000"
      ]
     },
     "execution_count": 17,
     "metadata": {},
     "output_type": "execute_result"
    }
   ],
   "source": [
    "#looking for nulls\n",
    "total = secondary_df.isnull().sum().sort_values(ascending=False)\n",
    "percent=(secondary_df.isnull().sum()/secondary_df.isnull().count()).sort_values(ascending=False)\n",
    "missing_data = pd.concat([total, percent], axis=1, keys=['Total', 'Percent'])\n",
    "missing_data.head(20)"
   ]
  },
  {
   "cell_type": "code",
   "execution_count": 18,
   "id": "0688e0c1",
   "metadata": {},
   "outputs": [
    {
     "data": {
      "text/plain": [
       "0        u\n",
       "1        u\n",
       "2        u\n",
       "3        u\n",
       "4        u\n",
       "        ..\n",
       "61064    f\n",
       "61065    f\n",
       "61066    f\n",
       "61067    f\n",
       "61068    f\n",
       "Name: veil-type, Length: 61069, dtype: object"
      ]
     },
     "execution_count": 18,
     "metadata": {},
     "output_type": "execute_result"
    }
   ],
   "source": [
    "#funk = lambda x: ds.exchange_nones_to_false(secondary_df[x])\n",
    "#without = list(map(funk, secondary_df.columns))\n",
    "secondary_df['veil-type'].fillna(value='f',inplace=True)\n",
    "secondary_df['veil-type']\n",
    "\n"
   ]
  },
  {
   "cell_type": "code",
   "execution_count": 19,
   "id": "37e36a1e",
   "metadata": {},
   "outputs": [
    {
     "name": "stdout",
     "output_type": "stream",
     "text": [
      "outer range of the distribution\n",
      "[[-1.20685539]\n",
      " [-1.19545895]\n",
      " [-1.19545895]\n",
      " [-1.18976073]\n",
      " [-1.18976073]\n",
      " [-1.18976073]\n",
      " [-1.18786133]\n",
      " [-1.18786133]\n",
      " [-1.18596192]\n",
      " [-1.18596192]]\n",
      "outer range ot the distribution\n",
      "[[ 9.6444552 ]\n",
      " [ 9.66344927]\n",
      " [ 9.69194037]\n",
      " [ 9.73372732]\n",
      " [ 9.75841961]\n",
      " [ 9.77741367]\n",
      " [ 9.79450833]\n",
      " [ 9.90657333]\n",
      " [10.01483951]\n",
      " [10.56186865]]\n"
     ]
    }
   ],
   "source": [
    "#standard deviation\n",
    "cap_diam_stand = StandardScaler().fit_transform(secondary_df[diam][:,np.newaxis])\n",
    "low_range = cap_diam_stand[cap_diam_stand[:,0].argsort()][:10]\n",
    "high_range = cap_diam_stand[cap_diam_stand[:,0].argsort()][-10:]\n",
    "print('outer range of the distribution')\n",
    "print(low_range)\n",
    "print('outer range ot the distribution')\n",
    "print(high_range)"
   ]
  },
  {
   "cell_type": "code",
   "execution_count": 22,
   "id": "240068f4",
   "metadata": {},
   "outputs": [
    {
     "data": {
      "text/plain": [
       "<AxesSubplot:xlabel='clas', ylabel='cap-diameter'>"
      ]
     },
     "execution_count": 22,
     "metadata": {},
     "output_type": "execute_result"
    },
    {
     "data": {
      "image/png": "[encoded data removed]",
      "text/plain": [
       "<Figure size 432x288 with 1 Axes>"
      ]
     },
     "metadata": {
      "needs_background": "light"
     },
     "output_type": "display_data"
    }
   ],
   "source": [
    "sns.boxplot(data=secondary_df,x='clas',y='cap-diameter')\n",
    "#secondary_df[['cap-diameter', 'stem-height', 'stem-width','does-bruise-bleed']].boxplot()"
   ]
  },
  {
   "cell_type": "code",
   "execution_count": 24,
   "id": "0ece6879",
   "metadata": {},
   "outputs": [
    {
     "data": {
      "text/plain": [
       "<AxesSubplot:xlabel='clas', ylabel='stem-height'>"
      ]
     },
     "execution_count": 24,
     "metadata": {},
     "output_type": "execute_result"
    },
    {
     "data": {
      "image/png": "[encoded data removed]",
      "text/plain": [
       "<Figure size 432x288 with 1 Axes>"
      ]
     },
     "metadata": {
      "needs_background": "light"
     },
     "output_type": "display_data"
    }
   ],
   "source": [
    "sns.boxplot(data=secondary_df,x='clas',y='stem-height')"
   ]
  },
  {
   "cell_type": "code",
   "execution_count": 25,
   "id": "74bb6a77",
   "metadata": {},
   "outputs": [
    {
     "data": {
      "text/plain": [
       "<AxesSubplot:xlabel='clas', ylabel='stem-width'>"
      ]
     },
     "execution_count": 25,
     "metadata": {},
     "output_type": "execute_result"
    },
    {
     "data": {
      "image/png": "[encoded data removed]",
      "text/plain": [
       "<Figure size 432x288 with 1 Axes>"
      ]
     },
     "metadata": {
      "needs_background": "light"
     },
     "output_type": "display_data"
    }
   ],
   "source": [
    "sns.boxplot(data=secondary_df,x='clas',y='stem-width')"
   ]
  },
  {
   "cell_type": "code",
   "execution_count": 26,
   "id": "e7557e32",
   "metadata": {},
   "outputs": [
    {
     "data": {
      "text/plain": [
       "<AxesSubplot:xlabel='cap-color', ylabel='count'>"
      ]
     },
     "execution_count": 26,
     "metadata": {},
     "output_type": "execute_result"
    },
    {
     "data": {
      "image/png": "[encoded data removed]",
      "text/plain": [
       "<Figure size 432x288 with 1 Axes>"
      ]
     },
     "metadata": {
      "needs_background": "light"
     },
     "output_type": "display_data"
    }
   ],
   "source": [
    "sns.countplot(data=secondary_df, x='cap-color')"
   ]
  },
  {
   "cell_type": "code",
   "execution_count": 28,
   "id": "6631527d",
   "metadata": {},
   "outputs": [
    {
     "data": {
      "text/plain": [
       "<AxesSubplot:xlabel='clas', ylabel='cap-diameter'>"
      ]
     },
     "execution_count": 28,
     "metadata": {},
     "output_type": "execute_result"
    },
    {
     "data": {
      "image/png": "[encoded data removed]",
      "text/plain": [
       "<Figure size 432x288 with 1 Axes>"
      ]
     },
     "metadata": {
      "needs_background": "light"
     },
     "output_type": "display_data"
    }
   ],
   "source": [
    "sns.boxplot(data=secondary_df[secondary_df['cap-color']=='r'],x='clas',y='cap-diameter')"
   ]
  },
  {
   "cell_type": "code",
   "execution_count": 29,
   "id": "dc6de74c",
   "metadata": {},
   "outputs": [
    {
     "data": {
      "text/html": [
       "<div>\n",
       "<style scoped>\n",
       "    .dataframe tbody tr th:only-of-type {\n",
       "        vertical-align: middle;\n",
       "    }\n",
       "\n",
       "    .dataframe tbody tr th {\n",
       "        vertical-align: top;\n",
       "    }\n",
       "\n",
       "    .dataframe thead th {\n",
       "        text-align: right;\n",
       "    }\n",
       "</style>\n",
       "<table border=\"1\" class=\"dataframe\">\n",
       "  <thead>\n",
       "    <tr style=\"text-align: right;\">\n",
       "      <th>season</th>\n",
       "      <th>a</th>\n",
       "      <th>s</th>\n",
       "      <th>u</th>\n",
       "      <th>w</th>\n",
       "    </tr>\n",
       "    <tr>\n",
       "      <th>clas</th>\n",
       "      <th></th>\n",
       "      <th></th>\n",
       "      <th></th>\n",
       "      <th></th>\n",
       "    </tr>\n",
       "  </thead>\n",
       "  <tbody>\n",
       "    <tr>\n",
       "      <th>e</th>\n",
       "      <td>12785</td>\n",
       "      <td>1553</td>\n",
       "      <td>9647</td>\n",
       "      <td>3196</td>\n",
       "    </tr>\n",
       "    <tr>\n",
       "      <th>p</th>\n",
       "      <td>17392</td>\n",
       "      <td>1174</td>\n",
       "      <td>13251</td>\n",
       "      <td>2071</td>\n",
       "    </tr>\n",
       "  </tbody>\n",
       "</table>\n",
       "</div>"
      ],
      "text/plain": [
       "season      a     s      u     w\n",
       "clas                            \n",
       "e       12785  1553   9647  3196\n",
       "p       17392  1174  13251  2071"
      ]
     },
     "execution_count": 29,
     "metadata": {},
     "output_type": "execute_result"
    }
   ],
   "source": [
    "tab = pd.crosstab(secondary_df['clas'], secondary_df['season'])\n",
    "tab"
   ]
  },
  {
   "cell_type": "code",
   "execution_count": 30,
   "id": "0e1c597f",
   "metadata": {},
   "outputs": [
    {
     "data": {
      "text/plain": [
       "42.13031705825836"
      ]
     },
     "execution_count": 30,
     "metadata": {},
     "output_type": "execute_result"
    }
   ],
   "source": [
    "#checking percentages of edible shrooms in each season, this is correct with my hyphothesis\n",
    "#that it is unlikely to aproach edible mushroom in winter; from all of winter mushrooms only 2.4 provent is edible\n",
    "u = (tab['u']['e']*100)/np.sum(tab['u'])#summer\n",
    "u"
   ]
  },
  {
   "cell_type": "code",
   "execution_count": 38,
   "id": "70be40c4",
   "metadata": {},
   "outputs": [
    {
     "data": {
      "text/plain": [
       "60.679703816214165"
      ]
     },
     "execution_count": 38,
     "metadata": {},
     "output_type": "execute_result"
    }
   ],
   "source": [
    "w = (tab['w']['e']*100)/np.sum(tab['w'])#winter\n",
    "w"
   ]
  },
  {
   "cell_type": "code",
   "execution_count": null,
   "id": "a99ddf32",
   "metadata": {},
   "outputs": [],
   "source": []
  },
  {
   "cell_type": "code",
   "execution_count": 39,
   "id": "5939082d",
   "metadata": {},
   "outputs": [
    {
     "data": {
      "text/plain": [
       "56.94902823615695"
      ]
     },
     "execution_count": 39,
     "metadata": {},
     "output_type": "execute_result"
    }
   ],
   "source": [
    "s = (tab['s']['e']*100)/np.sum(tab['s'])#spring\n",
    "s"
   ]
  },
  {
   "cell_type": "code",
   "execution_count": 40,
   "id": "c9ab31c9",
   "metadata": {},
   "outputs": [
    {
     "data": {
      "text/plain": [
       "42.36670311826888"
      ]
     },
     "execution_count": 40,
     "metadata": {},
     "output_type": "execute_result"
    }
   ],
   "source": [
    "a = (tab['a']['e']*100)/np.sum(tab['a'])#autumn\n",
    "a"
   ]
  },
  {
   "cell_type": "code",
   "execution_count": 42,
   "id": "ddbf20b5",
   "metadata": {},
   "outputs": [
    {
     "data": {
      "text/html": [
       "<div>\n",
       "<style scoped>\n",
       "    .dataframe tbody tr th:only-of-type {\n",
       "        vertical-align: middle;\n",
       "    }\n",
       "\n",
       "    .dataframe tbody tr th {\n",
       "        vertical-align: top;\n",
       "    }\n",
       "\n",
       "    .dataframe thead th {\n",
       "        text-align: right;\n",
       "    }\n",
       "</style>\n",
       "<table border=\"1\" class=\"dataframe\">\n",
       "  <thead>\n",
       "    <tr style=\"text-align: right;\">\n",
       "      <th>habitat</th>\n",
       "      <th>d</th>\n",
       "      <th>g</th>\n",
       "      <th>h</th>\n",
       "      <th>l</th>\n",
       "      <th>m</th>\n",
       "      <th>p</th>\n",
       "      <th>u</th>\n",
       "      <th>w</th>\n",
       "    </tr>\n",
       "    <tr>\n",
       "      <th>clas</th>\n",
       "      <th></th>\n",
       "      <th></th>\n",
       "      <th></th>\n",
       "      <th></th>\n",
       "      <th></th>\n",
       "      <th></th>\n",
       "      <th></th>\n",
       "      <th></th>\n",
       "    </tr>\n",
       "  </thead>\n",
       "  <tbody>\n",
       "    <tr>\n",
       "      <th>e</th>\n",
       "      <td>20163</td>\n",
       "      <td>2489</td>\n",
       "      <td>696</td>\n",
       "      <td>1938</td>\n",
       "      <td>1427</td>\n",
       "      <td>0</td>\n",
       "      <td>115</td>\n",
       "      <td>353</td>\n",
       "    </tr>\n",
       "    <tr>\n",
       "      <th>p</th>\n",
       "      <td>24046</td>\n",
       "      <td>5454</td>\n",
       "      <td>1305</td>\n",
       "      <td>1230</td>\n",
       "      <td>1493</td>\n",
       "      <td>360</td>\n",
       "      <td>0</td>\n",
       "      <td>0</td>\n",
       "    </tr>\n",
       "  </tbody>\n",
       "</table>\n",
       "</div>"
      ],
      "text/plain": [
       "habitat      d     g     h     l     m    p    u    w\n",
       "clas                                                 \n",
       "e        20163  2489   696  1938  1427    0  115  353\n",
       "p        24046  5454  1305  1230  1493  360    0    0"
      ]
     },
     "execution_count": 42,
     "metadata": {},
     "output_type": "execute_result"
    }
   ],
   "source": [
    "hab = pd.crosstab(secondary_df['clas'], secondary_df['habitat'])\n",
    "hab\n",
    "#lack of edible mushrooms near humans"
   ]
  },
  {
   "cell_type": "code",
   "execution_count": 43,
   "id": "c793ea3c",
   "metadata": {
    "scrolled": true
   },
   "outputs": [
    {
     "data": {
      "text/plain": [
       "[45.608360288629015,\n",
       " 31.335767342313986,\n",
       " 34.78260869565217,\n",
       " 61.17424242424242,\n",
       " 48.86986301369863,\n",
       " 0.0,\n",
       " 100.0,\n",
       " 100.0]"
      ]
     },
     "execution_count": 43,
     "metadata": {},
     "output_type": "execute_result"
    }
   ],
   "source": [
    "perc = lambda x: (hab[x]['e']*100)/np.sum(hab[x])\n",
    "list(map(perc, hab.columns))"
   ]
  },
  {
   "cell_type": "code",
   "execution_count": 45,
   "id": "76fd6fc3",
   "metadata": {
    "scrolled": true
   },
   "outputs": [
    {
     "data": {
      "text/html": [
       "<div>\n",
       "<style scoped>\n",
       "    .dataframe tbody tr th:only-of-type {\n",
       "        vertical-align: middle;\n",
       "    }\n",
       "\n",
       "    .dataframe tbody tr th {\n",
       "        vertical-align: top;\n",
       "    }\n",
       "\n",
       "    .dataframe thead th {\n",
       "        text-align: right;\n",
       "    }\n",
       "</style>\n",
       "<table border=\"1\" class=\"dataframe\">\n",
       "  <thead>\n",
       "    <tr style=\"text-align: right;\">\n",
       "      <th>habitat</th>\n",
       "      <th>d</th>\n",
       "      <th>g</th>\n",
       "      <th>h</th>\n",
       "      <th>l</th>\n",
       "      <th>m</th>\n",
       "      <th>p</th>\n",
       "      <th>u</th>\n",
       "      <th>w</th>\n",
       "    </tr>\n",
       "    <tr>\n",
       "      <th>clas</th>\n",
       "      <th></th>\n",
       "      <th></th>\n",
       "      <th></th>\n",
       "      <th></th>\n",
       "      <th></th>\n",
       "      <th></th>\n",
       "      <th></th>\n",
       "      <th></th>\n",
       "    </tr>\n",
       "  </thead>\n",
       "  <tbody>\n",
       "    <tr>\n",
       "      <th>e</th>\n",
       "      <td>0.741805</td>\n",
       "      <td>0.091571</td>\n",
       "      <td>0.025606</td>\n",
       "      <td>0.071300</td>\n",
       "      <td>0.052500</td>\n",
       "      <td>0.000000</td>\n",
       "      <td>0.004231</td>\n",
       "      <td>0.012987</td>\n",
       "    </tr>\n",
       "    <tr>\n",
       "      <th>p</th>\n",
       "      <td>0.709573</td>\n",
       "      <td>0.160942</td>\n",
       "      <td>0.038509</td>\n",
       "      <td>0.036296</td>\n",
       "      <td>0.044057</td>\n",
       "      <td>0.010623</td>\n",
       "      <td>0.000000</td>\n",
       "      <td>0.000000</td>\n",
       "    </tr>\n",
       "  </tbody>\n",
       "</table>\n",
       "</div>"
      ],
      "text/plain": [
       "habitat         d         g         h         l         m         p         u  \\\n",
       "clas                                                                            \n",
       "e        0.741805  0.091571  0.025606  0.071300  0.052500  0.000000  0.004231   \n",
       "p        0.709573  0.160942  0.038509  0.036296  0.044057  0.010623  0.000000   \n",
       "\n",
       "habitat         w  \n",
       "clas               \n",
       "e        0.012987  \n",
       "p        0.000000  "
      ]
     },
     "execution_count": 45,
     "metadata": {},
     "output_type": "execute_result"
    }
   ],
   "source": [
    "pd.crosstab(secondary_df['clas'], secondary_df['habitat'], normalize='index')\n",
    "#mushromms are most common in forests and in gresses. Highest percent of finding edible is also in forest group"
   ]
  },
  {
   "cell_type": "code",
   "execution_count": 47,
   "id": "1fdcb12e",
   "metadata": {},
   "outputs": [
    {
     "data": {
      "text/html": [
       "<div>\n",
       "<style scoped>\n",
       "    .dataframe tbody tr th:only-of-type {\n",
       "        vertical-align: middle;\n",
       "    }\n",
       "\n",
       "    .dataframe tbody tr th {\n",
       "        vertical-align: top;\n",
       "    }\n",
       "\n",
       "    .dataframe thead th {\n",
       "        text-align: right;\n",
       "    }\n",
       "</style>\n",
       "<table border=\"1\" class=\"dataframe\">\n",
       "  <thead>\n",
       "    <tr style=\"text-align: right;\">\n",
       "      <th>cap-color</th>\n",
       "      <th>b</th>\n",
       "      <th>e</th>\n",
       "      <th>g</th>\n",
       "      <th>k</th>\n",
       "      <th>l</th>\n",
       "      <th>n</th>\n",
       "      <th>o</th>\n",
       "      <th>p</th>\n",
       "      <th>r</th>\n",
       "      <th>u</th>\n",
       "      <th>w</th>\n",
       "      <th>y</th>\n",
       "    </tr>\n",
       "    <tr>\n",
       "      <th>clas</th>\n",
       "      <th></th>\n",
       "      <th></th>\n",
       "      <th></th>\n",
       "      <th></th>\n",
       "      <th></th>\n",
       "      <th></th>\n",
       "      <th></th>\n",
       "      <th></th>\n",
       "      <th></th>\n",
       "      <th></th>\n",
       "      <th></th>\n",
       "      <th></th>\n",
       "    </tr>\n",
       "  </thead>\n",
       "  <tbody>\n",
       "    <tr>\n",
       "      <th>e</th>\n",
       "      <td>0.035834</td>\n",
       "      <td>0.032376</td>\n",
       "      <td>0.084508</td>\n",
       "      <td>0.018432</td>\n",
       "      <td>0.016629</td>\n",
       "      <td>0.456459</td>\n",
       "      <td>0.039403</td>\n",
       "      <td>0.016519</td>\n",
       "      <td>0.007285</td>\n",
       "      <td>0.022479</td>\n",
       "      <td>0.137964</td>\n",
       "      <td>0.132114</td>\n",
       "    </tr>\n",
       "    <tr>\n",
       "      <th>p</th>\n",
       "      <td>0.007554</td>\n",
       "      <td>0.093101</td>\n",
       "      <td>0.062648</td>\n",
       "      <td>0.022958</td>\n",
       "      <td>0.011095</td>\n",
       "      <td>0.348530</td>\n",
       "      <td>0.076281</td>\n",
       "      <td>0.037004</td>\n",
       "      <td>0.046742</td>\n",
       "      <td>0.032401</td>\n",
       "      <td>0.115557</td>\n",
       "      <td>0.146128</td>\n",
       "    </tr>\n",
       "  </tbody>\n",
       "</table>\n",
       "</div>"
      ],
      "text/plain": [
       "cap-color         b         e         g         k         l         n  \\\n",
       "clas                                                                    \n",
       "e          0.035834  0.032376  0.084508  0.018432  0.016629  0.456459   \n",
       "p          0.007554  0.093101  0.062648  0.022958  0.011095  0.348530   \n",
       "\n",
       "cap-color         o         p         r         u         w         y  \n",
       "clas                                                                   \n",
       "e          0.039403  0.016519  0.007285  0.022479  0.137964  0.132114  \n",
       "p          0.076281  0.037004  0.046742  0.032401  0.115557  0.146128  "
      ]
     },
     "execution_count": 47,
     "metadata": {},
     "output_type": "execute_result"
    }
   ],
   "source": [
    "pd.crosstab(secondary_df['clas'], secondary_df['cap-color'], normalize='index')"
   ]
  },
  {
   "cell_type": "code",
   "execution_count": 48,
   "id": "78fa4f2f",
   "metadata": {},
   "outputs": [
    {
     "data": {
      "text/html": [
       "<div>\n",
       "<style scoped>\n",
       "    .dataframe tbody tr th:only-of-type {\n",
       "        vertical-align: middle;\n",
       "    }\n",
       "\n",
       "    .dataframe tbody tr th {\n",
       "        vertical-align: top;\n",
       "    }\n",
       "\n",
       "    .dataframe thead th {\n",
       "        text-align: right;\n",
       "    }\n",
       "</style>\n",
       "<table border=\"1\" class=\"dataframe\">\n",
       "  <thead>\n",
       "    <tr style=\"text-align: right;\">\n",
       "      <th>cap-color</th>\n",
       "      <th>b</th>\n",
       "      <th>e</th>\n",
       "      <th>g</th>\n",
       "      <th>k</th>\n",
       "      <th>l</th>\n",
       "      <th>n</th>\n",
       "      <th>o</th>\n",
       "      <th>p</th>\n",
       "      <th>r</th>\n",
       "      <th>u</th>\n",
       "      <th>w</th>\n",
       "      <th>y</th>\n",
       "    </tr>\n",
       "    <tr>\n",
       "      <th>clas</th>\n",
       "      <th></th>\n",
       "      <th></th>\n",
       "      <th></th>\n",
       "      <th></th>\n",
       "      <th></th>\n",
       "      <th></th>\n",
       "      <th></th>\n",
       "      <th></th>\n",
       "      <th></th>\n",
       "      <th></th>\n",
       "      <th></th>\n",
       "      <th></th>\n",
       "    </tr>\n",
       "  </thead>\n",
       "  <tbody>\n",
       "    <tr>\n",
       "      <th>e</th>\n",
       "      <td>974</td>\n",
       "      <td>880</td>\n",
       "      <td>2297</td>\n",
       "      <td>501</td>\n",
       "      <td>452</td>\n",
       "      <td>12407</td>\n",
       "      <td>1071</td>\n",
       "      <td>449</td>\n",
       "      <td>198</td>\n",
       "      <td>611</td>\n",
       "      <td>3750</td>\n",
       "      <td>3591</td>\n",
       "    </tr>\n",
       "    <tr>\n",
       "      <th>p</th>\n",
       "      <td>256</td>\n",
       "      <td>3155</td>\n",
       "      <td>2123</td>\n",
       "      <td>778</td>\n",
       "      <td>376</td>\n",
       "      <td>11811</td>\n",
       "      <td>2585</td>\n",
       "      <td>1254</td>\n",
       "      <td>1584</td>\n",
       "      <td>1098</td>\n",
       "      <td>3916</td>\n",
       "      <td>4952</td>\n",
       "    </tr>\n",
       "  </tbody>\n",
       "</table>\n",
       "</div>"
      ],
      "text/plain": [
       "cap-color    b     e     g    k    l      n     o     p     r     u     w  \\\n",
       "clas                                                                        \n",
       "e          974   880  2297  501  452  12407  1071   449   198   611  3750   \n",
       "p          256  3155  2123  778  376  11811  2585  1254  1584  1098  3916   \n",
       "\n",
       "cap-color     y  \n",
       "clas             \n",
       "e          3591  \n",
       "p          4952  "
      ]
     },
     "execution_count": 48,
     "metadata": {},
     "output_type": "execute_result"
    }
   ],
   "source": [
    "cap_col = pd.crosstab(secondary_df['clas'], secondary_df['cap-color'])\n",
    "cap_col"
   ]
  },
  {
   "cell_type": "code",
   "execution_count": 49,
   "id": "7481d6eb",
   "metadata": {},
   "outputs": [
    {
     "data": {
      "text/html": [
       "<div>\n",
       "<style scoped>\n",
       "    .dataframe tbody tr th:only-of-type {\n",
       "        vertical-align: middle;\n",
       "    }\n",
       "\n",
       "    .dataframe tbody tr th {\n",
       "        vertical-align: top;\n",
       "    }\n",
       "\n",
       "    .dataframe thead th {\n",
       "        text-align: right;\n",
       "    }\n",
       "</style>\n",
       "<table border=\"1\" class=\"dataframe\">\n",
       "  <thead>\n",
       "    <tr style=\"text-align: right;\">\n",
       "      <th></th>\n",
       "      <th>b</th>\n",
       "      <th>e</th>\n",
       "      <th>g</th>\n",
       "      <th>k</th>\n",
       "      <th>l</th>\n",
       "      <th>n</th>\n",
       "      <th>o</th>\n",
       "      <th>p</th>\n",
       "      <th>r</th>\n",
       "      <th>u</th>\n",
       "      <th>w</th>\n",
       "      <th>y</th>\n",
       "    </tr>\n",
       "  </thead>\n",
       "  <tbody>\n",
       "    <tr>\n",
       "      <th>t to f</th>\n",
       "      <td>79.186992</td>\n",
       "      <td>21.80917</td>\n",
       "      <td>51.968326</td>\n",
       "      <td>39.171228</td>\n",
       "      <td>54.589372</td>\n",
       "      <td>51.23049</td>\n",
       "      <td>29.294311</td>\n",
       "      <td>26.365238</td>\n",
       "      <td>11.111111</td>\n",
       "      <td>35.751902</td>\n",
       "      <td>48.917297</td>\n",
       "      <td>42.034414</td>\n",
       "    </tr>\n",
       "  </tbody>\n",
       "</table>\n",
       "</div>"
      ],
      "text/plain": [
       "                b         e          g          k          l         n  \\\n",
       "t to f  79.186992  21.80917  51.968326  39.171228  54.589372  51.23049   \n",
       "\n",
       "                o          p          r          u          w          y  \n",
       "t to f  29.294311  26.365238  11.111111  35.751902  48.917297  42.034414  "
      ]
     },
     "execution_count": 49,
     "metadata": {},
     "output_type": "execute_result"
    }
   ],
   "source": [
    "cap_perc = dict(map(lambda x: (x,(cap_col[x]['e']*100)/np.sum(cap_col[x])), cap_col.columns))\n",
    "pd.DataFrame(index=['t to f'], data=cap_perc)\n",
    "#"
   ]
  },
  {
   "cell_type": "code",
   "execution_count": 36,
   "id": "15aa2ac6",
   "metadata": {},
   "outputs": [
    {
     "data": {
      "text/plain": [
       "<AxesSubplot:xlabel='cap-color', ylabel='count'>"
      ]
     },
     "execution_count": 36,
     "metadata": {},
     "output_type": "execute_result"
    },
    {
     "data": {
      "image/png": "[encoded data removed]",
      "text/plain": [
       "<Figure size 432x288 with 1 Axes>"
      ]
     },
     "metadata": {
      "needs_background": "light"
     },
     "output_type": "display_data"
    }
   ],
   "source": [
    "sns.countplot(secondary_df, x='cap-color')"
   ]
  },
  {
   "cell_type": "code",
   "execution_count": 50,
   "id": "a2df5ae2",
   "metadata": {},
   "outputs": [
    {
     "ename": "TypeError",
     "evalue": "DataSource.edible_percent() got multiple values for argument 'row'",
     "output_type": "error",
     "traceback": [
      "\u001b[0;31m---------------------------------------------------------------------------\u001b[0m",
      "\u001b[0;31mTypeError\u001b[0m                                 Traceback (most recent call last)",
      "\u001b[0;32m/tmp/ipykernel_7888/51224280.py\u001b[0m in \u001b[0;36m<module>\u001b[0;34m\u001b[0m\n\u001b[0;32m----> 1\u001b[0;31m \u001b[0mds\u001b[0m\u001b[0;34m.\u001b[0m\u001b[0medible_percent\u001b[0m\u001b[0;34m(\u001b[0m\u001b[0msecondary_df\u001b[0m\u001b[0;34m[\u001b[0m\u001b[0;34m'clas'\u001b[0m\u001b[0;34m]\u001b[0m\u001b[0;34m,\u001b[0m \u001b[0msecondary_df\u001b[0m\u001b[0;34m[\u001b[0m\u001b[0;34m'stem-color'\u001b[0m\u001b[0;34m]\u001b[0m\u001b[0;34m,\u001b[0m \u001b[0mrow\u001b[0m\u001b[0;34m=\u001b[0m\u001b[0;34m'e'\u001b[0m\u001b[0;34m)\u001b[0m\u001b[0;34m\u001b[0m\u001b[0;34m\u001b[0m\u001b[0m\n\u001b[0m",
      "\u001b[0;31mTypeError\u001b[0m: DataSource.edible_percent() got multiple values for argument 'row'"
     ]
    }
   ],
   "source": [
    "ds.edible_percent(secondary_df['clas'], secondary_df['stem-color'], row='e')\n"
   ]
  },
  {
   "cell_type": "code",
   "execution_count": 35,
   "id": "4e911241",
   "metadata": {},
   "outputs": [
    {
     "data": {
      "text/plain": [
       "<AxesSubplot:xlabel='stem-color', ylabel='count'>"
      ]
     },
     "execution_count": 35,
     "metadata": {},
     "output_type": "execute_result"
    },
    {
     "data": {
      "image/png": "[encoded data removed]",
      "text/plain": [
       "<Figure size 432x288 with 1 Axes>"
      ]
     },
     "metadata": {
      "needs_background": "light"
     },
     "output_type": "display_data"
    }
   ],
   "source": [
    "sns.countplot(secondary_df, x='stem-color')"
   ]
  },
  {
   "cell_type": "code",
   "execution_count": null,
   "id": "296d258b",
   "metadata": {},
   "outputs": [],
   "source": []
  },
  {
   "cell_type": "code",
   "execution_count": null,
   "id": "158ffb0c",
   "metadata": {},
   "outputs": [],
   "source": []
  },
  {
   "cell_type": "code",
   "execution_count": null,
   "id": "92f8c8ae",
   "metadata": {},
   "outputs": [],
   "source": []
  },
  {
   "cell_type": "code",
   "execution_count": null,
   "id": "265f8323",
   "metadata": {},
   "outputs": [],
   "source": []
  },
  {
   "cell_type": "code",
   "execution_count": null,
   "id": "3a00d84a",
   "metadata": {},
   "outputs": [],
   "source": []
  },
  {
   "cell_type": "code",
   "execution_count": null,
   "id": "18d2b86f",
   "metadata": {},
   "outputs": [],
   "source": []
  },
  {
   "cell_type": "code",
   "execution_count": null,
   "id": "96a6feaf",
   "metadata": {},
   "outputs": [],
   "source": []
  },
  {
   "cell_type": "code",
   "execution_count": null,
   "id": "cb6e910f",
   "metadata": {},
   "outputs": [],
   "source": []
  },
  {
   "cell_type": "code",
   "execution_count": null,
   "id": "a214923c",
   "metadata": {},
   "outputs": [],
   "source": []
  },
  {
   "cell_type": "code",
   "execution_count": null,
   "id": "7b7337c3",
   "metadata": {},
   "outputs": [],
   "source": []
  },
  {
   "cell_type": "code",
   "execution_count": null,
   "id": "3a4cdf07",
   "metadata": {},
   "outputs": [],
   "source": []
  },
  {
   "cell_type": "code",
   "execution_count": null,
   "id": "d8dd6425",
   "metadata": {},
   "outputs": [],
   "source": []
  },
  {
   "cell_type": "code",
   "execution_count": null,
   "id": "37f665bd",
   "metadata": {},
   "outputs": [],
   "source": []
  },
  {
   "cell_type": "code",
   "execution_count": null,
   "id": "769f4eff",
   "metadata": {},
   "outputs": [],
   "source": []
  },
  {
   "cell_type": "code",
   "execution_count": null,
   "id": "0b8412cd",
   "metadata": {},
   "outputs": [],
   "source": []
  },
  {
   "cell_type": "code",
   "execution_count": null,
   "id": "f5b45276",
   "metadata": {},
   "outputs": [],
   "source": []
  },
  {
   "cell_type": "code",
   "execution_count": null,
   "id": "3d8b3bf0",
   "metadata": {},
   "outputs": [],
   "source": []
  },
  {
   "cell_type": "code",
   "execution_count": null,
   "id": "808301f9",
   "metadata": {},
   "outputs": [],
   "source": []
  }
 ],
 "metadata": {
  "kernelspec": {
   "display_name": "Python 3 (ipykernel)",
   "language": "python",
   "name": "python3"
  },
  "language_info": {
   "codemirror_mode": {
    "name": "ipython",
    "version": 3
   },
   "file_extension": ".py",
   "mimetype": "text/x-python",
   "name": "python",
   "nbconvert_exporter": "python",
   "pygments_lexer": "ipython3",
   "version": "3.10.6"
  }
 },
 "nbformat": 4,
 "nbformat_minor": 5
}
